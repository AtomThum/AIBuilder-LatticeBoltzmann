{
 "cells": [
  {
   "cell_type": "code",
   "execution_count": null,
   "metadata": {},
   "outputs": [],
   "source": [
    "import tensorflow as tf\n",
    "from tensorflow import keras\n",
    "from tensorflow.keras import datasets, layers, models\n",
    "from tensorflow.keras.layers import Conv2D, MaxPooling2D, Flatten, Dense, Dropout\n",
    "from tensorflow.keras.preprocessing.image import ImageDataGenerator\n",
    "import matplotlib.pyplot as plt\n",
    "import PIL\n",
    "import PIL.Image\n",
    "import pandas as pd\n",
    "\n",
    "import pathlib\n",
    "import os\n",
    "\n",
    "img_height = 32\n",
    "img_width = 32\n",
    "batch_size = 32\n",
    "split_seed = 41123"
   ]
  },
  {
   "cell_type": "code",
   "execution_count": null,
   "metadata": {},
   "outputs": [],
   "source": [
    "directory = \"data/\"\n",
    "df = pd.read_csv(directory + \"data.csv\")\n",
    "\n",
    "file_paths = df[\"file_name\"].values\n",
    "labelx = df[\"labelx\"].values\n",
    "labely = df[\"labely\"].values\n",
    "\n",
    "ds_train = tf.data.Dataset.from_tensor_slices((file_paths, labelx, labely))\n",
    "image_paths = df[\"file_name\"].values\n",
    "coordinates = pd.read_csv(\"data/data.csv\")\n",
    "\n",
    "def load_image(image_path):\n",
    "    image = tf.io.read_file(directory + image_path)\n",
    "    image = tf.image.decode_png(image, channels=1)\n",
    "    image = tf.image.resize(image, [img_height, img_width])\n",
    "    image = (255.0 - image) / 255.0\n",
    "    return image\n",
    "\n",
    "def load_data(image_path, label):\n",
    "    image = load_image(image_path)\n",
    "    return image, label\n",
    "\n",
    "image_paths_tensor = tf.constant(image_paths)\n",
    "coordinates_tensor = tf.convert_to_tensor(coordinates[[\"labelx\", \"labely\"]].values, dtype=tf.float32)\n",
    "\n",
    "dataset = tf.data.Dataset.from_tensor_slices((image_paths_tensor, coordinates_tensor))\n",
    "dataset = dataset.map(lambda path, coords: (load_image(path), coords))\n",
    "dataset = dataset.batch(batch_size)\n",
    "dataset = dataset.shuffle(buffer_size=32, seed=split_seed)\n",
    "\n",
    "# Train-test split\n",
    "train_ratio = 0.7\n",
    "total_size = 1438\n",
    "train_size = int(total_size * train_ratio)\n",
    "test_size = total_size - train_size\n",
    "\n",
    "train_dataset = dataset.take(train_size)\n",
    "test_dataset = dataset.skip(train_size)"
   ]
  },
  {
   "cell_type": "code",
   "execution_count": null,
   "metadata": {},
   "outputs": [],
   "source": [
    "model = models.Sequential()\n",
    "model.add(Conv2D(32, (4, 4), activation='relu', input_shape=(32, 32, 1)))\n",
    "model.add(MaxPooling2D((2, 2)))\n",
    "model.add(Conv2D(64, (4, 4), activation='relu'))\n",
    "model.add(MaxPooling2D((2, 2)))\n",
    "model.add(Conv2D(64, (4, 4), activation='relu'))\n",
    "model.add(layers.Flatten())\n",
    "model.add(layers.Dense(64, activation='relu'))\n",
    "model.add(layers.Dense(16, activation='relu'))\n",
    "model.add(layers.Dense(42, activation='relu'))\n",
    "model.add(layers.Dense(2, activation='relu'))\n",
    "\n",
    "model.compile(\n",
    "    optimizer=\"adam\",\n",
    "    loss=\"mean_squared_error\"\n",
    ")"
   ]
  },
  {
   "cell_type": "code",
   "execution_count": null,
   "metadata": {},
   "outputs": [],
   "source": [
    "model.fit(train_dataset, epochs=10, validation_data=test_dataset)"
   ]
  },
  {
   "cell_type": "code",
   "execution_count": null,
   "metadata": {},
   "outputs": [],
   "source": [
    "loss_history = model.history.history[\"loss\"]\n",
    "print(min(loss_history))\n",
    "\n",
    "plt.figure()\n",
    "plt.plot(loss_history)"
   ]
  },
  {
   "cell_type": "code",
   "execution_count": null,
   "metadata": {},
   "outputs": [],
   "source": [
    "def preprocess_image(image_path):\n",
    "    image = tf.io.read_file(image_path)\n",
    "    image = tf.image.decode_png(image, channels=1)\n",
    "    image = tf.image.resize(image, [32, 32]) \n",
    "    image = (255.0 - image) / 255.0\n",
    "    return tf.expand_dims(image, axis=0)\n",
    "test_image = preprocess_image(\"img_test.png\")\n",
    "model(test_image)"
   ]
  },
  {
   "cell_type": "code",
   "execution_count": null,
   "metadata": {},
   "outputs": [],
   "source": [
    "model.export(\"model\")"
   ]
  }
 ],
 "metadata": {
  "kernelspec": {
   "display_name": "Python 3",
   "language": "python",
   "name": "python3"
  },
  "language_info": {
   "codemirror_mode": {
    "name": "ipython",
    "version": 3
   },
   "file_extension": ".py",
   "mimetype": "text/x-python",
   "name": "python",
   "nbconvert_exporter": "python",
   "pygments_lexer": "ipython3",
   "version": "3.13.0"
  }
 },
 "nbformat": 4,
 "nbformat_minor": 2
}
