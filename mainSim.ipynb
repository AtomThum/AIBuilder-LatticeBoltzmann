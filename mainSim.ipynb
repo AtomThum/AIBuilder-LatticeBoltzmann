{
 "cells": [
  {
   "cell_type": "code",
   "execution_count": null,
   "metadata": {},
   "outputs": [],
   "source": [
    "import numpy as np\n",
    "import matplotlib.pyplot as plt\n",
    "import matplotlib.animation as anim\n",
    "import itertools as itr\n",
    "import copy\n",
    "from boundaries import WallBoundary, PressureBoundary, VelocityBoundary\n",
    "from generators import WallGenerators\n",
    "from simulation import Simulation\n",
    "import pandas as pd\n",
    "import random\n",
    "from openpyxl import load_workbook"
   ]
  },
  {
   "cell_type": "code",
   "execution_count": null,
   "metadata": {},
   "outputs": [],
   "source": [
    "# new = pd.DataFrame({\n",
    "#             \"BestPos\" : [],\n",
    "#             \"BestDirection\" : [],\n",
    "#             \"BestMomentum\" : [],\n",
    "#             \"ImageLink\": [],\n",
    "#             \"SizeX\": [],\n",
    "#             \"SizeY\": [],\n",
    "#             \"NumberOfCuts\": [],\n",
    "#             \"TypesOfCuts\": [],\n",
    "#             \"CutPositionsX\": [],\n",
    "#             \"CutPositionsY\": [],\n",
    "#             \"CutSizesX\": [],\n",
    "#             \"CutSizesY\": [] })"
   ]
  },
  {
   "cell_type": "code",
   "execution_count": null,
   "metadata": {},
   "outputs": [],
   "source": [
    "data_path = 'data/data.xlsx' \n",
    "data = pd.read_excel(data_path).iloc[:, 1:]"
   ]
  },
  {
   "cell_type": "code",
   "execution_count": null,
   "metadata": {},
   "outputs": [],
   "source": [
    "count = len(data.index)\n",
    "print(count)"
   ]
  },
  {
   "cell_type": "code",
   "execution_count": null,
   "metadata": {},
   "outputs": [],
   "source": [
    "#count = 3"
   ]
  },
  {
   "cell_type": "code",
   "execution_count": null,
   "metadata": {},
   "outputs": [],
   "source": [
    "new = pd.DataFrame({\n",
    "            \"BestX\" : [],\n",
    "            \"BestY\" : [],\n",
    "            \"BestTime\" : [],\n",
    "            \"WorstTime\" : [],\n",
    "            \"ImageLink\": [],\n",
    "            \"SizeX\": [],\n",
    "            \"SizeY\": [],\n",
    "            \"NumberOfCuts\": [],\n",
    "            \"TypesOfCuts\": [],\n",
    "            \"CutPositionsX\": [],\n",
    "            \"CutPositionsY\": [],\n",
    "            \"CutSizesX\":  [],\n",
    "            \"CutSizesY\": [] })\n",
    "for i in range(1000000): \n",
    "    yResolution = 32\n",
    "    xResolution = 32\n",
    "    ACspeed = 1\n",
    "\n",
    "    walls = WallBoundary(yResolution, xResolution)\n",
    "    walls.borderWall()\n",
    "    conditions = walls.generateRoom()\n",
    "    walls.generateIndex()\n",
    "    walls.generateACDirections()\n",
    "    walls.indexWithoutCare()\n",
    "\n",
    "    # real = np.sum(walls.possibleACPos)\n",
    "    # bad = len(walls.possibleACIndex)\n",
    "    # if bad/real < 0.8:\n",
    "    #     print(\"BAD\")\n",
    "    #     continue\n",
    "\n",
    "    # bestPos = []\n",
    "    # bestDirection = []\n",
    "    # bestTime = 501\n",
    "\n",
    "    total = len([i for i in walls.possibleACIndex])\n",
    "    print(f\"{count}\")\n",
    "    print(f\"Total Number Of Cobinations: {total}\")\n",
    "    start = 1\n",
    "    print(walls.possibleACIndex)\n",
    "\n",
    "    #plt.imshow(walls.invertedBoundary, cmap=\"hot\", interpolation=\"nearest\")\n",
    "\n",
    "    results = []\n",
    "\n",
    "    for index, pos in enumerate(walls.possibleACIndex):\n",
    "        print(f\"Simulation batch {start}/{total}\")\n",
    "        simTimes = []\n",
    "        for directionIndex, direction in enumerate(WallBoundary.unitVect):\n",
    "            #print(f\"Trying direction: {direction}...\")\n",
    "            pathOfFlow = [i+j for i, j in zip(pos, direction)]\n",
    "            if (not walls.boundary[pathOfFlow[0], pathOfFlow[1]]):\n",
    "                #print(\"Works! Testing now...\")\n",
    "                velocityInlet = [VelocityBoundary(pos[0], pos[1], ACspeed, directionIndex)]\n",
    "                initCondition = np.ones((yResolution, xResolution, Simulation.latticeSize)) / 9\n",
    "                simulation = Simulation(\n",
    "                    yResolution, xResolution, initCondition, walls, velocityBoundaries=velocityInlet, pressureBoundaries=[]\n",
    "                )\n",
    "                simTime, stable = simulation.simulateUntilEquilibrium(equilibriumThreshold=2.5, limit = 500)\n",
    "                #print(\"Done!\")\n",
    "                if not stable or simTime == 500:\n",
    "                    #print(\"It exploded :() or didn't equalize\")\n",
    "                    break\n",
    "                simTimes.append(simTime)\n",
    "            #else:\n",
    "                #print(\"Doesn't work! Moving on...\")\n",
    "            #print(\"\\n\")\n",
    "        results.append(np.average(simTimes))\n",
    "        start += 1\n",
    "        #print(\"--------------\")\n",
    "    \n",
    "    if(len(results) == 0):\n",
    "        continue\n",
    "\n",
    "    full_frame() \n",
    "    plt.imshow(walls.invertedBoundary, cmap=\"hot\", interpolation=\"nearest\")\n",
    "    imgpath = f'data/images/{count}.png'\n",
    "    plt.savefig(imgpath, bbox_inches=\"tight\", pad_inches=0)\n",
    "    \n",
    "    results = np.nan_to_num(results, copy=False, nan=501)\n",
    "\n",
    "    lowest = min(results)\n",
    "    most = max(results)\n",
    "    ansIndex = [index for index, result in enumerate(results) if result == lowest][0]\n",
    "    ansPos = walls.possibleACIndex[ansIndex]\n",
    "\n",
    "    conditions[\"BestX\"] = [ansPos[1]]\n",
    "    conditions[\"BestY\"] = [ansPos[0]]\n",
    "    conditions[\"BestTime\"] = [lowest]\n",
    "    conditions[\"WorstTime\"] = [most]\n",
    "    conditions[\"ImageLink\"] = [imgpath]\n",
    "\n",
    "    print(f\"position: {ansPos} Momentum: {results[ansIndex]}\")\n",
    "    df_dictionary = pd.DataFrame(conditions)\n",
    "    new = pd.concat([new, df_dictionary], ignore_index=True)\n",
    "    count += 1\n"
   ]
  },
  {
   "cell_type": "code",
   "execution_count": 51,
   "metadata": {},
   "outputs": [
    {
     "name": "stdout",
     "output_type": "stream",
     "text": [
      "[  5.66666667  26.           5.          26.25        24.75\n",
      "   6.          24.25         6.66666667  26.5         30.66666667\n",
      "  47.          49.66666667  31.         116.          44.66666667\n",
      " 501.           5.66666667  25.5         25.75        30.\n",
      "  44.66666667  47.33333333   6.25        38.5         23.5\n",
      "  42.33333333  24.33333333  34.5         50.          53.75\n",
      "  24.          59.          53.5         53.25        36.5\n",
      "  37.75        39.          25.25        25.25         6.\n",
      "  23.75         6.66666667  39.5         29.66666667  38.\n",
      "  27.66666667  50.5         50.33333333  49.75        49.33333333\n",
      "  49.5         69.66666667  49.5         69.33333333  49.75\n",
      "  69.        ]\n"
     ]
    }
   ],
   "source": [
    "results = np.nan_to_num(results, copy=False, nan=501)\n",
    "print(results)"
   ]
  },
  {
   "cell_type": "code",
   "execution_count": 52,
   "metadata": {},
   "outputs": [
    {
     "name": "stdout",
     "output_type": "stream",
     "text": [
      "   BestX  BestY  BestTime   WorstTime          ImageLink  SizeX  SizeY  \\\n",
      "0    2.0    4.0       6.0  146.250000  data/images/0.png   32.0   32.0   \n",
      "1    1.0   30.0       6.5   86.000000  data/images/1.png   32.0   32.0   \n",
      "2   12.0    1.0       5.5   92.200000  data/images/2.png   32.0   32.0   \n",
      "3   29.0    5.0       6.0  129.250000  data/images/3.png   32.0   32.0   \n",
      "4   30.0    1.0       6.5   91.333333  data/images/4.png   32.0   32.0   \n",
      "\n",
      "   NumberOfCuts         TypesOfCuts           CutPositionsX  \\\n",
      "0           5.0     [1, 0, 1, 1, 1]       [31, 0, 0, 0, 31]   \n",
      "1           1.0                 [1]                     [0]   \n",
      "2           5.0     [0, 1, 0, 1, 0]      [0, 16, 0, 31, 16]   \n",
      "3           6.0  [0, 1, 0, 1, 1, 1]  [31, 0, 16, 0, 31, 31]   \n",
      "4           1.0                 [0]                     [0]   \n",
      "\n",
      "           CutPositionsY           CutSizesX           CutSizesY  \n",
      "0     [31, 16, 0, 31, 0]     [4, 6, 9, 5, 4]     [4, 6, 6, 9, 5]  \n",
      "1                   [16]                 [6]                 [4]  \n",
      "2     [0, 31, 16, 31, 0]     [9, 7, 4, 9, 4]     [9, 9, 4, 3, 4]  \n",
      "3  [16, 16, 0, 0, 31, 0]  [4, 4, 3, 3, 4, 8]  [4, 5, 3, 8, 5, 9]  \n",
      "4                    [0]                 [4]                 [4]  \n"
     ]
    }
   ],
   "source": [
    "data = pd.concat([data, new], ignore_index=True)\n",
    "print(data.head())"
   ]
  },
  {
   "cell_type": "code",
   "execution_count": 53,
   "metadata": {},
   "outputs": [],
   "source": [
    "data.to_excel(data_path)"
   ]
  },
  {
   "cell_type": "code",
   "execution_count": null,
   "metadata": {},
   "outputs": [],
   "source": [
    "lowest = min(results)\n",
    "ansIndex = [index for index, result in enumerate(results) if result == lowest][0]\n",
    "ansPos = walls.possibleACIndex[ansIndex]\n",
    "print(ansIndex)\n",
    "print(ansPos)\n",
    "print(results[ansIndex])\n",
    "print(list(enumerate(results)))"
   ]
  },
  {
   "cell_type": "code",
   "execution_count": null,
   "metadata": {},
   "outputs": [],
   "source": [
    "print(conditions)"
   ]
  },
  {
   "cell_type": "code",
   "execution_count": null,
   "metadata": {},
   "outputs": [],
   "source": [
    "\n",
    "# bestPos = []\n",
    "# bestDirection = []\n",
    "# bestTemp = 0\n",
    "\n",
    "# total = len([i for i in walls.possibleACIndex])\n",
    "# print(f\"{count}\")\n",
    "# print(f\"Total Number Of Cobinations: {total}\")\n",
    "# start = 1\n",
    "# print(walls.possibleACIndex)\n",
    "\n",
    "# #plt.imshow(walls.invertedBoundary, cmap=\"hot\", interpolation=\"nearest\")\n",
    "\n",
    "# for index, pos in enumerate(walls.possibleACIndex):\n",
    "#     print(f\"Simulation batch {start}/{total}\")\n",
    "#     for directionIndex, direction in enumerate(WallBoundary.unitVect):\n",
    "#         #print(f\"Trying direction: {direction}...\")\n",
    "#         pathOfFlow = [i+j for i, j in zip(pos, direction)]\n",
    "#         if (not walls.boundary[pathOfFlow[0], pathOfFlow[1]]):\n",
    "#             #print(\"Works! Testing now...\")\n",
    "#             velocityInlet = [VelocityBoundary(pos[0], pos[1], ACspeed, directionIndex)]\n",
    "#             initCondition = np.ones((yResolution, xResolution, Simulation.latticeSize)) / 9\n",
    "#             simulation = Simulation(\n",
    "#                 yResolution, xResolution, initCondition, walls, velocityBoundaries=velocityInlet, pressureBoundaries=[]\n",
    "#             )\n",
    "#             simTime, stable = simulation.simulateUntilEquilibrium(equilibriumThreshold=2.5, limit = 500)\n",
    "#             results = simulation.getMomentum()\n",
    "#             #print(\"Done!\")\n",
    "#             if not stable or simTime == 500:\n",
    "#                 #print(\"It exploded :() or didn't equalize\")\n",
    "#                 break\n",
    "#             if results > bestTemp:\n",
    "#                 bestPos = pos\n",
    "#                 bestDirection = directionIndex\n",
    "#                 bestTemp = results\n",
    "#                 print(f\"It works! Momentum: {results}\")\n",
    "#         #else:\n",
    "#             #print(\"Doesn't work! Moving on...\")\n",
    "#         #print(\"\\n\")\n",
    "#     start += 1\n",
    "#     #print(\"--------------\")\n",
    "    \n",
    "\n",
    "# conditions[\"BestPos\"] = [bestPos]\n",
    "# conditions[\"BestDirection\"] = [bestDirection]\n",
    "# conditions[\"BestMomentum\"] = [bestTemp]\n",
    "# conditions[\"ImageLink\"] = [imgpath]\n",
    "\n",
    "# print(f\"position: {bestPos} direction: {bestDirection} Momentum: {bestTemp}\")\n",
    "# df_dictionary = pd.DataFrame(conditions)\n",
    "# data = pd.concat([data, df_dictionary], ignore_index=True)\n",
    "# count += 1\n"
   ]
  },
  {
   "cell_type": "code",
   "execution_count": null,
   "metadata": {},
   "outputs": [],
   "source": [
    "# yResolution = random.randint(20,50)\n",
    "# xResolution = random.randint(20,50)\n",
    "# ACspeed = 1\n",
    "\n",
    "# walls = WallBoundary(yResolution, xResolution)\n",
    "# walls.borderWall()\n",
    "# conditions = walls.generateRoom()\n",
    "# walls.generateIndex()\n",
    "# walls.generateACDirections()\n",
    "# walls.indexPossibleACPos()\n",
    "\n",
    "# plt.imshow(walls.invertedBoundary, cmap=\"hot\", interpolation=\"nearest\")\n",
    "# imgpath = f'data/images/{count}.png'\n",
    "# plt.savefig(imgpath)"
   ]
  },
  {
   "cell_type": "code",
   "execution_count": null,
   "metadata": {},
   "outputs": [],
   "source": [
    "# velocityInlet = [VelocityBoundary(bestPos[0], bestPos[1], 1, bestDirection)]\n",
    "# initCondition = np.ones((yResolution, xResolution, Simulation.latticeSize)) / 9\n",
    "# simulation = Simulation(\n",
    "#     yResolution, xResolution, initCondition, walls, velocityBoundaries=velocityInlet, pressureBoundaries=[]\n",
    "# )\n"
   ]
  },
  {
   "cell_type": "code",
   "execution_count": null,
   "metadata": {},
   "outputs": [],
   "source": [
    "# simulation.simulate(step = 10)\n",
    "# densityPlot = copy.copy(simulation.density)\n",
    "# densityPlot[walls.invertedBoundary] -= np.min(densityPlot[walls.invertedBoundary])\n",
    "# print(np.average(simulation.fluid))\n",
    "# print(simulation.getMomentum())\n",
    "\n",
    "# fig, ax = plt.subplots()\n",
    "# heatmap = ax.imshow(densityPlot, cmap = \"rainbow\", interpolation = \"nearest\")\n",
    "# quivermap = ax.quiver(simulation.xIndex, simulation.yIndex, simulation.momentumX, -simulation.momentumY)\n",
    "# fig.colorbar(heatmap)\n",
    "# # print(simulation.fluid)\n",
    "# plt.show()"
   ]
  },
  {
   "cell_type": "code",
   "execution_count": null,
   "metadata": {},
   "outputs": [],
   "source": [
    "# velocityInlet = [VelocityBoundary(bestPos[0], bestPos[1], 1, )]\n",
    "# initCondition = np.ones((yResolution, xResolution, Simulation.latticeSize)) / 9\n",
    "# simulation = Simulation(\n",
    "#     yResolution, xResolution, initCondition, walls, velocityBoundaries=velocityInlet, pressureBoundaries=[]\n",
    "# )\n"
   ]
  },
  {
   "cell_type": "code",
   "execution_count": null,
   "metadata": {},
   "outputs": [],
   "source": [
    "# simulation.simulate(step = 10)\n",
    "# densityPlot = copy.copy(simulation.density)\n",
    "# densityPlot[walls.invertedBoundary] -= np.min(densityPlot[walls.invertedBoundary])\n",
    "# print(np.average(simulation.fluid))\n",
    "# print(simulation.getMomentum())\n",
    "\n",
    "# fig, ax = plt.subplots()\n",
    "# heatmap = ax.imshow(densityPlot, cmap = \"rainbow\", interpolation = \"nearest\")\n",
    "# quivermap = ax.quiver(simulation.xIndex, simulation.yIndex, simulation.momentumX, -simulation.momentumY)\n",
    "# fig.colorbar(heatmap)\n",
    "# # print(simulation.fluid)\n",
    "# plt.show()"
   ]
  }
 ],
 "metadata": {
  "kernelspec": {
   "display_name": "Python 3",
   "language": "python",
   "name": "python3"
  },
  "language_info": {
   "codemirror_mode": {
    "name": "ipython",
    "version": 3
   },
   "file_extension": ".py",
   "mimetype": "text/x-python",
   "name": "python",
   "nbconvert_exporter": "python",
   "pygments_lexer": "ipython3",
   "version": "3.13.0"
  }
 },
 "nbformat": 4,
 "nbformat_minor": 2
}
