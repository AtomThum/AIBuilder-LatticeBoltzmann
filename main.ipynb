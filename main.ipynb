{
 "cells": [
  {
   "cell_type": "code",
   "execution_count": 75,
   "metadata": {},
   "outputs": [],
   "source": [
    "import numpy as np\n",
    "import matplotlib.pyplot as plt\n",
    "from boundaries import WallBoundary\n",
    "\n",
    "# Initializing a rank three array filled with nodes\n",
    "latticeSize = 9\n",
    "xResolution = 100\n",
    "yResolution = 100\n",
    "# Weights\n",
    "cxs = np.array([0, 1, 0, -1, 0, 1, -1, -1, 1])\n",
    "cys = np.array([0, 0, 1, 0, -1, 1, 1, -1, -1])\n",
    "weight = np.array([4/9, 1/9, 1/9, 1/9, 1/9, 1/36, 1/36, 1/36, 1/36])\n",
    "\n",
    "# Initializing the fluid matrix\n",
    "fluid = np.ones((xResolution, yResolution, latticeSize)) + 0.1 * np.random.randn(xResolution, yResolution, latticeSize)\n",
    "# Assigning a right velocity\n",
    "fluid[:, :, 1] = 2.3\n",
    "\n",
    "# Set a boundary\n",
    "boundary = WallBoundary(xResolution, yResolution, False)\n",
    "boundary.cylindricalWall([xResolution/2, yResolution/2], 13)"
   ]
  },
  {
   "cell_type": "code",
   "execution_count": 74,
   "metadata": {},
   "outputs": [
    {
     "ename": "NameError",
     "evalue": "name 'it' is not defined",
     "output_type": "error",
     "traceback": [
      "\u001b[0;31m---------------------------------------------------------------------------\u001b[0m",
      "\u001b[0;31mNameError\u001b[0m                                 Traceback (most recent call last)",
      "Cell \u001b[0;32mIn[74], line 4\u001b[0m\n\u001b[1;32m      2\u001b[0m iteration \u001b[38;5;241m=\u001b[39m \u001b[38;5;241m500\u001b[39m\n\u001b[1;32m      3\u001b[0m \u001b[38;5;28;01mfor\u001b[39;00m time \u001b[38;5;129;01min\u001b[39;00m \u001b[38;5;28mrange\u001b[39m(iteration):\n\u001b[0;32m----> 4\u001b[0m     \u001b[38;5;28mprint\u001b[39m(\u001b[43mit\u001b[49m)\n\u001b[1;32m      6\u001b[0m     \u001b[38;5;28;01mfor\u001b[39;00m i, cy, cx \u001b[38;5;129;01min\u001b[39;00m \u001b[38;5;28mzip\u001b[39m(\u001b[38;5;28mrange\u001b[39m(latticeSize), cxs, cys):\n\u001b[1;32m      7\u001b[0m         fluid[:, :, i] \u001b[38;5;241m=\u001b[39m np\u001b[38;5;241m.\u001b[39mroll(fluid[:, :, i], cx, axis \u001b[38;5;241m=\u001b[39m \u001b[38;5;241m0\u001b[39m)\n",
      "\u001b[0;31mNameError\u001b[0m: name 'it' is not defined"
     ]
    }
   ],
   "source": [
    "# One iteration only\n"
   ]
  }
 ],
 "metadata": {
  "kernelspec": {
   "display_name": "Python 3",
   "language": "python",
   "name": "python3"
  },
  "language_info": {
   "codemirror_mode": {
    "name": "ipython",
    "version": 3
   },
   "file_extension": ".py",
   "mimetype": "text/x-python",
   "name": "python",
   "nbconvert_exporter": "python",
   "pygments_lexer": "ipython3",
   "version": "3.12.6"
  }
 },
 "nbformat": 4,
 "nbformat_minor": 2
}
