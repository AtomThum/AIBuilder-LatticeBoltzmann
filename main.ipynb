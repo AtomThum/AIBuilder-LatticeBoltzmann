{
 "cells": [
  {
   "cell_type": "code",
   "execution_count": 54,
   "metadata": {},
   "outputs": [],
   "source": [
    "import numpy as np\n",
    "import matplotlib.pyplot as plt\n",
    "import itertools as itr\n",
    "import time\n",
    "from boundaries import WallBoundary\n",
    "\n",
    "# Initializing a rank three tensor filled with nodes\n",
    "latticeSize = 9\n",
    "xResolution = 100\n",
    "yResolution = 100\n",
    "relaxationTime = 0.5\n",
    "# Weights\n",
    "unitVect = np.array([\n",
    "\t[0, 0],\t[1, 0], [0, 1],\n",
    "\t[-1, 0], [0, -1], [1, 1],\n",
    "\t[-1, 1], [-1, -1], [1, -1]\n",
    "])\n",
    "weight = np.array([\n",
    "    4/9, 1/9, 1/9,\n",
    "    1/9, 1/9, 1/36,\n",
    "    1/36, 1/36, 1/36\n",
    "])\n",
    "cs = np.sqrt(3)\n",
    "\n",
    "# Initializing the fluid matrix\n",
    "fluid = np.ones((xResolution, yResolution, latticeSize)) + 0.1 * np.random.randn(xResolution, yResolution, latticeSize)\n",
    "# Assigning a right velocity\n",
    "fluid[:, :, 1] = 2.3\n",
    "\n",
    "# Set a boundary\n",
    "boundary = WallBoundary(xResolution, yResolution, False)\n",
    "boundary.cylindricalWall([xResolution/2, yResolution/2], 13)"
   ]
  },
  {
   "cell_type": "code",
   "execution_count": 55,
   "metadata": {},
   "outputs": [],
   "source": [
    "# One iteration only\n",
    "\n",
    "fluidEquilibrium = np.ones((xResolution, yResolution, latticeSize))\n",
    "iteratedFluid = np.ones((xResolution, yResolution, latticeSize))\n",
    "\n",
    "# Internal collision step\n",
    "density = np.sum(fluid, axis = 2)\n",
    "mesoMomentum = fluid.reshape(xResolution, yResolution, latticeSize, 1) * unitVect\n",
    "momentum = np.sum(mesoMomentum, axis = 2) / density.reshape(xResolution, yResolution, 1)\n",
    "momentumMagnitude = np.linalg.norm(momentum, axis = 2) ** 2 / (2 * cs**4) # Represents u . u\n",
    "momentumDot = np.zeros((xResolution, yResolution, latticeSize))\n",
    "\n",
    "# I kinda give up on broadcasting rn. Help me :skull:\n",
    "for xIndex, yIndex in itr.product(range(xResolution), range(yResolution)):\n",
    "    latticeDensity = density[xIndex, yIndex]\n",
    "    cellMomentumMagnitude = momentumMagnitude[xIndex, yIndex]\n",
    "    for latticeIndex in range(latticeSize):\n",
    "        momentumDot = np.dot(unitVect[latticeIndex], momentum[xIndex, yIndex])\n",
    "        fluidEquilibrium = latticeDensity * weight[latticeIndex] * (\n",
    "\t\t\t1 + momentumDot / (cs ** 2) + momentumDot ** 2 / (cs ** 4) - cellMomentumMagnitude\n",
    "\t\t)\n",
    "        iteratedFluid[xIndex, yIndex, latticeIndex] = fluid[xIndex, yIndex, latticeIndex] * (1 - 1/relaxationTime) + 1/relaxationTime * fluidEquilibrium"
   ]
  },
  {
   "cell_type": "code",
   "execution_count": null,
   "metadata": {},
   "outputs": [],
   "source": []
  }
 ],
 "metadata": {
  "kernelspec": {
   "display_name": "Python 3",
   "language": "python",
   "name": "python3"
  },
  "language_info": {
   "codemirror_mode": {
    "name": "ipython",
    "version": 3
   },
   "file_extension": ".py",
   "mimetype": "text/x-python",
   "name": "python",
   "nbconvert_exporter": "python",
   "pygments_lexer": "ipython3",
   "version": "3.12.6"
  }
 },
 "nbformat": 4,
 "nbformat_minor": 2
}
