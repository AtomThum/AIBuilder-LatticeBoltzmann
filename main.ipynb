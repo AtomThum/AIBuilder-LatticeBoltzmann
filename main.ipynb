{
 "cells": [
  {
   "cell_type": "code",
   "execution_count": 167,
   "metadata": {},
   "outputs": [],
   "source": [
    "import numpy as np\n",
    "import matplotlib.pyplot as plt\n",
    "import itertools as itr\n",
    "from boundaries import WallBoundary\n",
    "\n",
    "# Initializing a rank three array filled with nodes\n",
    "latticeSize = 9\n",
    "xResolution = 5\n",
    "yResolution = 5\n",
    "# Weights\n",
    "cxs = np.array([0, 1, 0, -1, 0, 1, -1, -1, 1])\n",
    "cys = np.array([0, 0, 1, 0, -1, 1, 1, -1, -1])\n",
    "unitVeloVect = np.array([\n",
    "    [0, 0],\n",
    "    [1, 0],\n",
    "    [0, 1],\n",
    "    [-1, 0],\n",
    "    [0, -1],\n",
    "    [1, 1],\n",
    "    [-1, 1],\n",
    "    [-1, -1],\n",
    "    [1, -1]\n",
    "])\n",
    "cs = np.sqrt(3)\n",
    "weight = np.array([4/9, 1/9, 1/9, 1/9, 1/9, 1/36, 1/36, 1/36, 1/36])\n",
    "\n",
    "# Initializing the fluid matrix\n",
    "fluid = np.ones((xResolution, yResolution, latticeSize)) + 0.1 * np.random.randn(xResolution, yResolution, latticeSize)\n",
    "# Assigning a right velocity\n",
    "fluid[:, :, 1] = 2.3\n",
    "\n",
    "# Set a boundary\n",
    "boundary = WallBoundary(xResolution, yResolution, False)\n",
    "boundary.cylindricalWall([xResolution/2, yResolution/2], 13)"
   ]
  },
  {
   "cell_type": "code",
   "execution_count": 200,
   "metadata": {},
   "outputs": [],
   "source": [
    "# One iteration only\n",
    "\n",
    "iteratedFluid = np.ones((xResolution, yResolution, latticeSize))\n",
    "# Internal collision step\n",
    "density = np.sum(fluid, axis = 2)\n",
    "mesoMomentum = fluid.reshape(xResolution, yResolution, latticeSize, 1) * unitVeloVect\n",
    "momentum = np.sum(mesoMomentum, axis = 2) / density.reshape(xResolution, yResolution, 1)\n",
    "momentumMagnitude = np.linalg.norm(momentum, axis = 2) / (2 * cs**4)"
   ]
  },
  {
   "cell_type": "code",
   "execution_count": 201,
   "metadata": {},
   "outputs": [
    {
     "ename": "TypeError",
     "evalue": "Field elements must be 2- or 3-tuples, got '[3, 3]'",
     "output_type": "error",
     "traceback": [
      "\u001b[0;31m---------------------------------------------------------------------------\u001b[0m",
      "\u001b[0;31mTypeError\u001b[0m                                 Traceback (most recent call last)",
      "Cell \u001b[0;32mIn[201], line 1\u001b[0m\n\u001b[0;32m----> 1\u001b[0m a \u001b[38;5;241m=\u001b[39m \u001b[43mnp\u001b[49m\u001b[38;5;241;43m.\u001b[39;49m\u001b[43marray\u001b[49m\u001b[43m(\u001b[49m\n\u001b[1;32m      2\u001b[0m \u001b[43m\t\u001b[49m\u001b[43m[\u001b[49m\u001b[43m[\u001b[49m\u001b[38;5;241;43m1\u001b[39;49m\u001b[43m,\u001b[49m\u001b[43m \u001b[49m\u001b[38;5;241;43m1\u001b[39;49m\u001b[43m]\u001b[49m\u001b[43m,\u001b[49m\u001b[43m \u001b[49m\u001b[43m[\u001b[49m\u001b[38;5;241;43m2\u001b[39;49m\u001b[43m,\u001b[49m\u001b[43m \u001b[49m\u001b[38;5;241;43m2\u001b[39;49m\u001b[43m]\u001b[49m\u001b[43m]\u001b[49m\u001b[43m,\u001b[49m\n\u001b[1;32m      3\u001b[0m \u001b[43m\t\u001b[49m\u001b[43m[\u001b[49m\u001b[43m[\u001b[49m\u001b[38;5;241;43m3\u001b[39;49m\u001b[43m,\u001b[49m\u001b[43m \u001b[49m\u001b[38;5;241;43m3\u001b[39;49m\u001b[43m]\u001b[49m\u001b[43m,\u001b[49m\u001b[43m \u001b[49m\u001b[43m[\u001b[49m\u001b[38;5;241;43m4\u001b[39;49m\u001b[43m,\u001b[49m\u001b[43m \u001b[49m\u001b[38;5;241;43m4\u001b[39;49m\u001b[43m]\u001b[49m\u001b[43m]\u001b[49m\n\u001b[1;32m      4\u001b[0m \u001b[43m)\u001b[49m\n\u001b[1;32m      5\u001b[0m b \u001b[38;5;241m=\u001b[39m np\u001b[38;5;241m.\u001b[39marray(\n\u001b[1;32m      6\u001b[0m \t[[\u001b[38;5;241m1\u001b[39m, \u001b[38;5;241m1\u001b[39m], [\u001b[38;5;241m2\u001b[39m, \u001b[38;5;241m2\u001b[39m]],\n\u001b[1;32m      7\u001b[0m \t[[\u001b[38;5;241m3\u001b[39m, \u001b[38;5;241m3\u001b[39m], [\u001b[38;5;241m4\u001b[39m, \u001b[38;5;241m4\u001b[39m]]\n\u001b[1;32m      8\u001b[0m )\n\u001b[1;32m      9\u001b[0m adotb \u001b[38;5;241m=\u001b[39m np\u001b[38;5;241m.\u001b[39meinsum(\u001b[38;5;124m\"\u001b[39m\u001b[38;5;124mijk, ijk -> ij\u001b[39m\u001b[38;5;124m\"\u001b[39m, a, b)\n",
      "\u001b[0;31mTypeError\u001b[0m: Field elements must be 2- or 3-tuples, got '[3, 3]'"
     ]
    }
   ],
   "source": [
    "a = np.array([\n",
    "\t[[1, 1], [2, 2]],\n",
    "\t[[3, 3], [4, 4]]\n",
    "])\n",
    "b = np.array([\n",
    "\t[[1, 1], [2, 2]],\n",
    "\t[[3, 3], [4, 4]]\n",
    "])\n",
    "adotb = np.einsum(\"ijk, ijk -> ij\", a, b)"
   ]
  }
 ],
 "metadata": {
  "kernelspec": {
   "display_name": "Python 3",
   "language": "python",
   "name": "python3"
  },
  "language_info": {
   "codemirror_mode": {
    "name": "ipython",
    "version": 3
   },
   "file_extension": ".py",
   "mimetype": "text/x-python",
   "name": "python",
   "nbconvert_exporter": "python",
   "pygments_lexer": "ipython3",
   "version": "3.12.6"
  }
 },
 "nbformat": 4,
 "nbformat_minor": 2
}
