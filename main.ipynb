{
 "cells": [
  {
   "cell_type": "code",
   "execution_count": 2,
   "metadata": {},
   "outputs": [],
   "source": [
    "import numpy as np\n",
    "import matplotlib.pyplot as plt\n",
    "import itertools as itr\n",
    "from boundaries import WallBoundary\n",
    "\n",
    "# Initializing a rank three array filled with nodes\n",
    "latticeSize = 9\n",
    "xResolution = 5\n",
    "yResolution = 5\n",
    "# Weights\n",
    "cxs = np.array([0, 1, 0, -1, 0, 1, -1, -1, 1])\n",
    "cys = np.array([0, 0, 1, 0, -1, 1, 1, -1, -1])\n",
    "unitVeloVect = np.array([\n",
    "    [0, 0],\n",
    "    [1, 0],\n",
    "    [0, 1],\n",
    "    [-1, 0],\n",
    "    [0, -1],\n",
    "    [1, 1],\n",
    "    [-1, 1],\n",
    "    [-1, -1],\n",
    "    [1, -1]\n",
    "])\n",
    "cs = np.sqrt(3)\n",
    "weight = np.array([4/9, 1/9, 1/9, 1/9, 1/9, 1/36, 1/36, 1/36, 1/36])\n",
    "\n",
    "# Initializing the fluid matrix\n",
    "fluid = np.ones((xResolution, yResolution, latticeSize)) + 0.1 * np.random.randn(xResolution, yResolution, latticeSize)\n",
    "# Assigning a right velocity\n",
    "fluid[:, :, 1] = 2.3\n",
    "\n",
    "# Set a boundary\n",
    "boundary = WallBoundary(xResolution, yResolution, False)\n",
    "boundary.cylindricalWall([xResolution/2, yResolution/2], 13)"
   ]
  },
  {
   "cell_type": "code",
   "execution_count": 21,
   "metadata": {},
   "outputs": [
    {
     "data": {
      "text/plain": [
       "array([[[4.67404589, 1.21175598, 1.16696955, 1.12824895, 1.17005747,\n",
       "         0.30252595, 0.28170432, 0.28242117, 0.30335306],\n",
       "        [4.62748781, 1.20146435, 1.16332408, 1.1154732 , 1.15049096,\n",
       "         0.30209827, 0.28036218, 0.2773922 , 0.29865169],\n",
       "        [4.86016345, 1.24779568, 1.19490832, 1.18396202, 1.2358633 ,\n",
       "         0.30664696, 0.29122619, 0.30092729, 0.31742335],\n",
       "        [4.79224913, 1.24107963, 1.20177014, 1.15792871, 1.19437722,\n",
       "         0.31126097, 0.29034504, 0.28862501, 0.30928454],\n",
       "        [4.68445784, 1.21848541, 1.18318154, 1.12729126, 1.15929087,\n",
       "         0.30787048, 0.28460723, 0.27909927, 0.3014331 ]],\n",
       "\n",
       "       [[4.42341134, 1.16791036, 1.11354152, 1.05006534, 1.09826946,\n",
       "         0.2941029 , 0.26423536, 0.26082363, 0.28987861],\n",
       "        [4.50522827, 1.16745495, 1.13462976, 1.08796257, 1.11810551,\n",
       "         0.2940901 , 0.27392563, 0.27008594, 0.28966766],\n",
       "        [4.56476977, 1.19354239, 1.11663298, 1.09324469, 1.1668557 ,\n",
       "         0.29169465, 0.26772239, 0.2791759 , 0.3053525 ],\n",
       "        [4.5599253 , 1.19001309, 1.14211802, 1.09399008, 1.1378526 ,\n",
       "         0.29808232, 0.27398682, 0.27301021, 0.29692622],\n",
       "        [4.37053843, 1.13163494, 1.08727527, 1.05623432, 1.09804701,\n",
       "         0.28147604, 0.26281161, 0.26531882, 0.2843547 ]],\n",
       "\n",
       "       [[4.70304786, 1.22174169, 1.18127913, 1.13311973, 1.17029605,\n",
       "         0.30691812, 0.28455582, 0.28201686, 0.30396554],\n",
       "        [4.41776057, 1.16253672, 1.10699759, 1.05188009, 1.10189447,\n",
       "         0.29133737, 0.26354555, 0.26239744, 0.28993393],\n",
       "        [4.81032685, 1.2627042 , 1.21683888, 1.14792967, 1.18865442,\n",
       "         0.31957618, 0.29021087, 0.28383643, 0.31185839],\n",
       "        [4.51034457, 1.19287755, 1.12801098, 1.06908035, 1.12716163,\n",
       "         0.29833723, 0.26736466, 0.2671756 , 0.29810162],\n",
       "        [4.50908265, 1.17408287, 1.13565255, 1.08405081, 1.1190115 ,\n",
       "         0.29578219, 0.27294218, 0.26911391, 0.29128993]],\n",
       "\n",
       "       [[4.78182665, 1.2366986 , 1.1861742 , 1.15687797, 1.20488548,\n",
       "         0.30669796, 0.28705495, 0.29142062, 0.31168793],\n",
       "        [4.56123875, 1.20402879, 1.13891738, 1.08300395, 1.14170539,\n",
       "         0.30062219, 0.27043985, 0.27106298, 0.30139306],\n",
       "        [4.56734439, 1.1816191 , 1.1640324 , 1.10464562, 1.12047014,\n",
       "         0.30132066, 0.28134368, 0.27118672, 0.28969648],\n",
       "        [5.05975209, 1.32072568, 1.25483   , 1.2136759 , 1.27521007,\n",
       "         0.32743902, 0.30110736, 0.3057716 , 0.33296482],\n",
       "        [4.62659523, 1.20874843, 1.15541683, 1.10885849, 1.15788342,\n",
       "         0.30185251, 0.27693323, 0.27749667, 0.30252236]],\n",
       "\n",
       "       [[4.48373095, 1.17229451, 1.11524597, 1.07388644, 1.12667775,\n",
       "         0.29152661, 0.26717525, 0.26978253, 0.29463521],\n",
       "        [4.56185957, 1.1935913 , 1.1407895 , 1.09187036, 1.14014048,\n",
       "         0.2984862 , 0.27304151, 0.27289371, 0.29830949],\n",
       "        [4.49431452, 1.17503263, 1.11628407, 1.07644559, 1.13096907,\n",
       "         0.29177361, 0.26744866, 0.2707981 , 0.29576667],\n",
       "        [4.45209369, 1.16014304, 1.12370948, 1.06958463, 1.10253853,\n",
       "         0.2929224 , 0.26985255, 0.26499006, 0.28719941],\n",
       "        [4.69844885, 1.22812484, 1.16910987, 1.1255721 , 1.18016654,\n",
       "         0.30553507, 0.28013799, 0.28266106, 0.30854034]]])"
      ]
     },
     "execution_count": 21,
     "metadata": {},
     "output_type": "execute_result"
    }
   ],
   "source": [
    "# One iteration only\n",
    "\n",
    "fluidEquilibrium = np.ones((xResolution, yResolution, latticeSize))\n",
    "iteratedFluid = np.ones((xResolution, yResolution, latticeSize))\n",
    "# Internal collision step\n",
    "density = np.sum(fluid, axis = 2)\n",
    "mesoMomentum = fluid.reshape(xResolution, yResolution, latticeSize, 1) * unitVeloVect\n",
    "momentum = np.sum(mesoMomentum, axis = 2) / density.reshape(xResolution, yResolution, 1)\n",
    "momentumMagnitude = np.linalg.norm(momentum, axis = 2) ** 2 / (2 * cs**4) # Represents u . u\n",
    "momentumDot = np.zeros((xResolution, yResolution, latticeSize))\n",
    "\n",
    "for xIndex, yIndex in itr.product(range(xResolution), range(yResolution)):\n",
    "    latticeDensity = density[xIndex, yIndex]\n",
    "    for latticeIndex in range(latticeSize):\n",
    "        momentumDot[xIndex, yIndex, latticeIndex] = np.dot(unitVeloVect[latticeIndex], momentum[xIndex, yIndex])\n",
    "\n",
    "for xIndex, yIndex in itr.product(range(xResolution), range(yResolution)):\n",
    "    latticeDensity = density[xIndex, yIndex]\n",
    "    for latticeIndex in range(latticeSize):\n",
    "        fluidEquilibrium[xIndex, yIndex, latticeIndex] = latticeDensity * weight[latticeIndex] * (\n",
    "\t\t\t1 + momentumDot[xIndex, yIndex, latticeIndex] / (cs ** 2) + momentumDot[xIndex, yIndex, latticeIndex] ** 2 / (cs ** 4) - momentumMagnitude[xIndex, yIndex]\n",
    "\t\t)\n",
    "\n",
    "fluidEquilibrium"
   ]
  },
  {
   "cell_type": "code",
   "execution_count": 15,
   "metadata": {},
   "outputs": [
    {
     "data": {
      "text/plain": [
       "np.float64(10.523321888260446)"
      ]
     },
     "execution_count": 15,
     "metadata": {},
     "output_type": "execute_result"
    }
   ],
   "source": [
    "density[0, 0]\n",
    "latticeDensity = density[0, 0]\n",
    "latticeDensity"
   ]
  }
 ],
 "metadata": {
  "kernelspec": {
   "display_name": "Python 3",
   "language": "python",
   "name": "python3"
  },
  "language_info": {
   "codemirror_mode": {
    "name": "ipython",
    "version": 3
   },
   "file_extension": ".py",
   "mimetype": "text/x-python",
   "name": "python",
   "nbconvert_exporter": "python",
   "pygments_lexer": "ipython3",
   "version": "3.12.6"
  }
 },
 "nbformat": 4,
 "nbformat_minor": 2
}
