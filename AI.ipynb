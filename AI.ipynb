{
 "cells": [
  {
   "cell_type": "code",
   "execution_count": 45,
   "metadata": {},
   "outputs": [],
   "source": [
    "import numpy as np\n",
    "import matplotlib.pyplot as plt\n",
    "import matplotlib.animation as anim\n",
    "import itertools as itr\n",
    "import copy\n",
    "from boundaries import WallBoundary, PressureBoundary, VelocityBoundary\n",
    "from generators import WallGenerators\n",
    "from simulation import Simulation\n",
    "import pandas as pd\n",
    "import random\n",
    "from openpyxl import load_workbook"
   ]
  },
  {
   "cell_type": "code",
   "execution_count": 62,
   "metadata": {},
   "outputs": [],
   "source": [
    "yResolution = random.randint(20,50)\n",
    "xResolution = random.randint(20,50)\n",
    "ACspeed = 1\n",
    "\n",
    "walls = WallBoundary(yResolution, xResolution)\n",
    "walls.borderWall()\n",
    "conditions = walls.generateRoom()\n",
    "walls.generateIndex()\n",
    "walls.generateACDirections()\n",
    "walls.indexPossibleACPos()\n",
    "\n",
    "walls.possibleACIndex = walls.possibleACIndex[:-1]"
   ]
  },
  {
   "cell_type": "code",
   "execution_count": 63,
   "metadata": {},
   "outputs": [
    {
     "name": "stdout",
     "output_type": "stream",
     "text": [
      "[(2, 3), (1, 4), (1, 5), (1, 6), (1, 7), (1, 8), (1, 9), (1, 10), (1, 11), (1, 12), (1, 13), (1, 14), (1, 15), (1, 16), (1, 17), (1, 18), (1, 19), (1, 20), (1, 21), (1, 22), (1, 23), (1, 24), (1, 25), (1, 26), (1, 27), (1, 28), (1, 29), (1, 30), (1, 31), (1, 32), (1, 33), (1, 34), (1, 35), (1, 36), (1, 37), (1, 38), (1, 39), (1, 40), (1, 41), (1, 42), (1, 43), (1, 44), (2, 44), (3, 44), (4, 45), (4, 46), (4, 47), (5, 47), (6, 47), (7, 47), (8, 47), (9, 47), (9, 46), (9, 45), (9, 44), (10, 43), (11, 43), (12, 43), (13, 43), (14, 43), (15, 43), (16, 43), (17, 44), (17, 45), (17, 46), (17, 47), (18, 47), (19, 47), (20, 47), (21, 47), (22, 47), (23, 47), (24, 47), (25, 47), (25, 46), (25, 45), (25, 44), (25, 43), (25, 42), (25, 41), (25, 40), (25, 39), (25, 38), (25, 37), (25, 36), (25, 35), (25, 34), (25, 33), (25, 32), (25, 31), (25, 30), (25, 29), (25, 28), (25, 27), (25, 26), (25, 25), (25, 24), (25, 23), (25, 22), (25, 21), (25, 20), (25, 19), (25, 18), (25, 17), (25, 16), (25, 15), (25, 14), (25, 13), (25, 12), (25, 11), (25, 10), (25, 9), (25, 8), (25, 7), (25, 6), (25, 5), (25, 4), (24, 4), (23, 4), (22, 3), (22, 2), (22, 1), (21, 1), (20, 1), (19, 1), (18, 1), (17, 1), (16, 1), (16, 2), (15, 3), (14, 3), (13, 4), (12, 3), (11, 3), (10, 2), (10, 1), (9, 1), (8, 1), (7, 1), (6, 1), (5, 1), (4, 1), (3, 1), (3, 2)]\n"
     ]
    },
    {
     "data": {
      "image/png": "[encoded data removed]",
      "text/plain": [
       "<Figure size 640x480 with 1 Axes>"
      ]
     },
     "metadata": {},
     "output_type": "display_data"
    }
   ],
   "source": [
    "plt.imshow(walls.invertedBoundary, cmap=\"hot\", interpolation=\"nearest\")\n",
    "plt.scatter([i[1] for i in walls.possibleACIndex], [i[0] for i in walls.possibleACIndex])\n",
    "print(walls.possibleACIndex)"
   ]
  },
  {
   "cell_type": "code",
   "execution_count": 48,
   "metadata": {},
   "outputs": [],
   "source": [
    "results = []\n",
    "stables = []"
   ]
  },
  {
   "cell_type": "code",
   "execution_count": 49,
   "metadata": {},
   "outputs": [],
   "source": [
    "def sim(pos):\n",
    "    simTimes = []\n",
    "    for directionIndex, direction in enumerate(WallBoundary.unitVect):\n",
    "        #print(f\"Trying direction: {direction}...\")\n",
    "        pathOfFlow = [i+j for i, j in zip(pos, direction)]\n",
    "        if (not walls.boundary[pathOfFlow[0], pathOfFlow[1]]):\n",
    "            velocityInlet = [VelocityBoundary(pos[0], pos[1], ACspeed, directionIndex)]\n",
    "            initCondition = np.ones((yResolution, xResolution, Simulation.latticeSize)) / 9\n",
    "            simulation = Simulation(\n",
    "                yResolution, xResolution, initCondition, walls, velocityBoundaries=velocityInlet, pressureBoundaries=[]\n",
    "            )\n",
    "            simTime, stable = simulation.simulateUntilEquilibrium(equilibriumThreshold=2.5, limit = 500)\n",
    "            #print(\"Done!\")\n",
    "            if stable and simTime < 500:\n",
    "                #print(\"It exploded :() or didn't equalize\")\n",
    "                simTimes.append(simTime)\n",
    "    return np.average(simTimes)\n",
    "\n",
    "def bruteforce():\n",
    "    bads = []\n",
    "    for index, pos in enumerate(walls.possibleACIndex):\n",
    "        print(pos)\n",
    "        print(f\"{index + 1}/{len(walls.possibleACIndex)}\")\n",
    "        result = sim(pos) #WE ARE GETTING THE TIME TO EQIL\n",
    "        if (result > 0):\n",
    "            results.append(result)\n",
    "            stables.append(index)\n",
    "        else:\n",
    "            bads.append(index)\n",
    "    print(bads)"
   ]
  },
  {
   "cell_type": "code",
   "execution_count": 50,
   "metadata": {},
   "outputs": [
    {
     "name": "stdout",
     "output_type": "stream",
     "text": [
      "(2, 4)\n",
      "1/80\n",
      "(1, 5)\n",
      "2/80\n"
     ]
    },
    {
     "name": "stderr",
     "output_type": "stream",
     "text": [
      "c:\\Users\\LENOVO\\Documents\\GitHub\\AIBuilder-LatticeBoltzmann\\simulation.py:52: RuntimeWarning: invalid value encountered in divide\n",
      "  self.speedY = self.momentumY / self.density\n",
      "c:\\Users\\LENOVO\\Documents\\GitHub\\AIBuilder-LatticeBoltzmann\\simulation.py:53: RuntimeWarning: invalid value encountered in divide\n",
      "  self.speedX = self.momentumX / self.density\n",
      "c:\\Users\\LENOVO\\Documents\\GitHub\\AIBuilder-LatticeBoltzmann\\simulation.py:71: RuntimeWarning: invalid value encountered in divide\n",
      "  self.speedY = self.momentumY / self.density\n",
      "c:\\Users\\LENOVO\\Documents\\GitHub\\AIBuilder-LatticeBoltzmann\\simulation.py:72: RuntimeWarning: invalid value encountered in divide\n",
      "  self.speedX = self.momentumX / self.density\n"
     ]
    },
    {
     "name": "stdout",
     "output_type": "stream",
     "text": [
      "(1, 6)\n",
      "3/80\n",
      "(1, 7)\n",
      "4/80\n",
      "(1, 8)\n",
      "5/80\n",
      "(1, 9)\n",
      "6/80\n",
      "(1, 10)\n",
      "7/80\n",
      "(2, 11)\n",
      "8/80\n",
      "(3, 12)\n",
      "9/80\n",
      "(2, 13)\n",
      "10/80\n",
      "(1, 14)\n",
      "11/80\n",
      "(1, 15)\n",
      "12/80\n",
      "(1, 16)\n",
      "13/80\n",
      "(1, 17)\n",
      "14/80\n",
      "(1, 18)\n",
      "15/80\n",
      "(1, 19)\n",
      "16/80\n",
      "(1, 20)\n",
      "17/80\n",
      "(1, 21)\n",
      "18/80\n",
      "(2, 21)\n",
      "19/80\n",
      "(3, 22)\n",
      "20/80\n",
      "(3, 23)\n",
      "21/80\n",
      "(4, 23)\n",
      "22/80\n",
      "(5, 23)\n",
      "23/80\n",
      "(6, 23)\n",
      "24/80\n",
      "(7, 23)\n",
      "25/80\n",
      "(8, 23)\n",
      "26/80\n",
      "(9, 23)\n",
      "27/80\n",
      "(10, 23)\n",
      "28/80\n",
      "(11, 23)\n",
      "29/80\n",
      "(12, 23)\n",
      "30/80\n",
      "(13, 23)\n",
      "31/80\n",
      "(14, 23)\n",
      "32/80\n",
      "(15, 23)\n",
      "33/80\n",
      "(16, 23)\n",
      "34/80\n",
      "(17, 23)\n",
      "35/80\n",
      "(18, 23)\n",
      "36/80\n",
      "(19, 23)\n",
      "37/80\n",
      "(20, 23)\n",
      "38/80\n",
      "(21, 22)\n",
      "39/80\n",
      "(21, 21)\n",
      "40/80\n",
      "(21, 20)\n",
      "41/80\n",
      "(21, 19)\n",
      "42/80\n",
      "(21, 18)\n",
      "43/80\n",
      "(21, 17)\n",
      "44/80\n",
      "(21, 16)\n",
      "45/80\n",
      "(21, 15)\n",
      "46/80\n",
      "(21, 14)\n",
      "47/80\n",
      "(20, 13)\n",
      "48/80\n",
      "(19, 12)\n",
      "49/80\n",
      "(20, 11)\n",
      "50/80\n",
      "(21, 10)\n",
      "51/80\n",
      "(21, 9)\n",
      "52/80\n",
      "(21, 8)\n",
      "53/80\n",
      "(21, 7)\n",
      "54/80\n",
      "(21, 6)\n",
      "55/80\n",
      "(21, 5)\n",
      "56/80\n",
      "(21, 4)\n",
      "57/80\n",
      "(20, 4)\n",
      "58/80\n",
      "(19, 4)\n",
      "59/80\n",
      "(18, 3)\n",
      "60/80\n",
      "(18, 2)\n",
      "61/80\n",
      "(18, 1)\n",
      "62/80\n",
      "(17, 1)\n",
      "63/80\n",
      "(16, 1)\n",
      "64/80\n",
      "(15, 1)\n",
      "65/80\n",
      "(14, 1)\n",
      "66/80\n",
      "(14, 2)\n",
      "67/80\n",
      "(13, 3)\n",
      "68/80\n",
      "(12, 3)\n",
      "69/80\n",
      "(11, 3)\n",
      "70/80\n",
      "(10, 3)\n",
      "71/80\n",
      "(9, 3)\n",
      "72/80\n",
      "(8, 2)\n",
      "73/80\n",
      "(8, 1)\n",
      "74/80\n",
      "(7, 1)\n",
      "75/80\n",
      "(6, 1)\n",
      "76/80\n",
      "(5, 1)\n",
      "77/80\n",
      "(4, 1)\n",
      "78/80\n",
      "(4, 2)\n",
      "79/80\n",
      "(3, 3)\n",
      "80/80\n",
      "[]\n"
     ]
    }
   ],
   "source": [
    "bruteforce()"
   ]
  },
  {
   "cell_type": "code",
   "execution_count": 51,
   "metadata": {},
   "outputs": [
    {
     "name": "stdout",
     "output_type": "stream",
     "text": [
      "[30.25, 18.25, 18.25, 18.0, 17.75, 15.75, 18.333333333333332, 35.333333333333336, 74.2, 36.333333333333336, 18.333333333333332, 15.5, 15.5, 15.5, 18.0, 18.5, 18.75, 5.5, 31.75, 32.25, 31.5, 111.25, 22.666666666666668, 22.333333333333332, 22.0, 21.0, 19.666666666666668, 19.666666666666668, 19.333333333333332, 19.333333333333332, 19.666666666666668, 21.0, 21.666666666666668, 22.333333333333332, 23.0, 23.333333333333332, 23.666666666666668, 33.0, 6.0, 24.0, 23.666666666666668, 23.0, 19.0, 18.666666666666668, 19.333333333333332, 19.333333333333332, 25.0, 49.333333333333336, 99.83333333333333, 50.0, 25.0, 19.0, 19.333333333333332, 22.333333333333332, 22.666666666666668, 22.666666666666668, 6.0, 30.0, 30.25, 43.75, 23.333333333333332, 6.0, 19.0, 19.0, 18.25, 18.666666666666668, 17.5, 29.25, 28.5, 39.0, 29.0, 29.5, 18.25, 25.0, 68.2, 18.75, 19.25, 23.333333333333332, 19.25, 39.666666666666664]\n",
      "[0, 1, 2, 3, 4, 5, 6, 7, 8, 9, 10, 11, 12, 13, 14, 15, 16, 17, 18, 19, 20, 21, 22, 23, 24, 25, 26, 27, 28, 29, 30, 31, 32, 33, 34, 35, 36, 37, 38, 39, 40, 41, 42, 43, 44, 45, 46, 47, 48, 49, 50, 51, 52, 53, 54, 55, 56, 57, 58, 59, 60, 61, 62, 63, 64, 65, 66, 67, 68, 69, 70, 71, 72, 73, 74, 75, 76, 77, 78, 79]\n"
     ]
    }
   ],
   "source": [
    "print(results)\n",
    "print(stables)"
   ]
  },
  {
   "cell_type": "code",
   "execution_count": 52,
   "metadata": {},
   "outputs": [
    {
     "data": {
      "text/plain": [
       "<matplotlib.colorbar.Colorbar at 0x2c3009650a0>"
      ]
     },
     "execution_count": 52,
     "metadata": {},
     "output_type": "execute_result"
    },
    {
     "data": {
      "image/png": "[encoded data removed]",
      "text/plain": [
       "<Figure size 640x480 with 2 Axes>"
      ]
     },
     "metadata": {},
     "output_type": "display_data"
    }
   ],
   "source": [
    "fig, ax = plt.subplots()\n",
    "\n",
    "room = np.zeros((yResolution, xResolution))\n",
    "for i in range(len(stables)):\n",
    "    room[walls.possibleACIndex[stables[i]]] = results[i]\n",
    "\n",
    "#init = np.append(init, export, axis=1)\n",
    "#print(room)\n",
    "\n",
    "heatmap  = ax.imshow(room, cmap=\"hot\", interpolation=\"nearest\")\n",
    "\n",
    "fig.colorbar(heatmap)"
   ]
  },
  {
   "cell_type": "code",
   "execution_count": 53,
   "metadata": {},
   "outputs": [
    {
     "name": "stdout",
     "output_type": "stream",
     "text": [
      "[17]\n",
      "[(1, 21)]\n",
      "[(0, 30.25), (1, 18.25), (2, 18.25), (3, 18.0), (4, 17.75), (5, 15.75), (6, 18.333333333333332), (7, 35.333333333333336), (8, 74.2), (9, 36.333333333333336), (10, 18.333333333333332), (11, 15.5), (12, 15.5), (13, 15.5), (14, 18.0), (15, 18.5), (16, 18.75), (17, 5.5), (18, 31.75), (19, 32.25), (20, 31.5), (21, 111.25), (22, 22.666666666666668), (23, 22.333333333333332), (24, 22.0), (25, 21.0), (26, 19.666666666666668), (27, 19.666666666666668), (28, 19.333333333333332), (29, 19.333333333333332), (30, 19.666666666666668), (31, 21.0), (32, 21.666666666666668), (33, 22.333333333333332), (34, 23.0), (35, 23.333333333333332), (36, 23.666666666666668), (37, 33.0), (38, 6.0), (39, 24.0), (40, 23.666666666666668), (41, 23.0), (42, 19.0), (43, 18.666666666666668), (44, 19.333333333333332), (45, 19.333333333333332), (46, 25.0), (47, 49.333333333333336), (48, 99.83333333333333), (49, 50.0), (50, 25.0), (51, 19.0), (52, 19.333333333333332), (53, 22.333333333333332), (54, 22.666666666666668), (55, 22.666666666666668), (56, 6.0), (57, 30.0), (58, 30.25), (59, 43.75), (60, 23.333333333333332), (61, 6.0), (62, 19.0), (63, 19.0), (64, 18.25), (65, 18.666666666666668), (66, 17.5), (67, 29.25), (68, 28.5), (69, 39.0), (70, 29.0), (71, 29.5), (72, 18.25), (73, 25.0), (74, 68.2), (75, 18.75), (76, 19.25), (77, 23.333333333333332), (78, 19.25), (79, 39.666666666666664)]\n"
     ]
    }
   ],
   "source": [
    "lowest = min(results)\n",
    "ansIndex = [index for index, result in zip(stables, results) if result == lowest]\n",
    "ansPos = [walls.possibleACIndex[i] for i in ansIndex]\n",
    "print(ansIndex)\n",
    "print(ansPos)\n",
    "print(list(zip(stables, results)))"
   ]
  },
  {
   "cell_type": "code",
   "execution_count": 54,
   "metadata": {},
   "outputs": [],
   "source": [
    "def AI(model = \"GD\", a = 0.5, b1 = 0.9, b2 = 0.99, w = 0.004, e = 10 ** -5):\n",
    "    print(f\"Model : {model}\")\n",
    "    \n",
    "    steps = 0\n",
    "    worked = False\n",
    "    \n",
    "    startIndex = 0\n",
    "    length = len(walls.possibleACIndex)\n",
    "    visitedAll = np.zeros(length)\n",
    "    wplus = w/a\n",
    "    \n",
    "    m = 0\n",
    "    v = 0\n",
    "    currentIndex = startIndex\n",
    "    while True:\n",
    "        steps += 1\n",
    "        if (sum(visitedAll) == length): #Went through all positions\n",
    "            break\n",
    "        currentIndex = currentIndex % length\n",
    "        visitedAll[currentIndex] = 1\n",
    "        currentPos = walls.possibleACIndex[currentIndex]\n",
    "        print(f\"Pos: {currentIndex}\")\n",
    "        #print(\"Simulating at pos...\")\n",
    "\n",
    "        currentResults = np.round(sim(currentPos))\n",
    "        print(currentResults)\n",
    "        usable = currentResults > 10\n",
    "        if (not usable):\n",
    "            currentIndex -= 1\n",
    "        else:\n",
    "            # if (steps != 1):\n",
    "            #     if (lastResult > currentResults and lastUsable):\n",
    "            #         worked = True\n",
    "            #         break\n",
    "\n",
    "            forwardPos = walls.possibleACIndex[(currentIndex + 1) % length]\n",
    "            forwardResults = np.round(sim(forwardPos))\n",
    "            #print(forwardResults)\n",
    "            forwardUsable = (forwardResults > 10)\n",
    "            forwardDif = forwardResults - currentResults\n",
    "\n",
    "            backwardPos = walls.possibleACIndex[(currentIndex - 1) % length] \n",
    "            backwardResults = np.round(sim(backwardPos))\n",
    "            #print(backwardResults)\n",
    "            backwardUsable = (backwardResults > 10)\n",
    "            backwardDif = currentResults - backwardResults\n",
    "\n",
    "            if (forwardDif > 0) and forwardUsable and backwardDif < 0 and backwardPos:\n",
    "                worked = True\n",
    "                break\n",
    "\n",
    "            g = (forwardDif * forwardUsable) + (backwardDif * backwardUsable)\n",
    "            print(g)\n",
    "            \n",
    "            if (model == \"GD\"):\n",
    "                indexMove = a * g\n",
    "            elif (model == \"ADAM\"):\n",
    "                m = (b1 * m)  + ((1 - b1) * g)\n",
    "                v = (b2 * v)  + ((1 - b2) * g * g)\n",
    "                mc = m / (1 - (b1 ** steps) + e)\n",
    "                vc = v / (1 - (b2 ** steps) + e)\n",
    "                indexMove = a * mc / (np.sqrt(vc) + e)\n",
    "            elif (model == \"ADAMW\"):\n",
    "                g += (wplus * currentIndex)\n",
    "                m = (b1 * m)  + ((1 - b1) * g)\n",
    "                v = (b2 * v)  + ((1 - b2) * g * g)\n",
    "                mc = m / (1 - (b1 ** steps) + e)\n",
    "                vc = v / (1 - (b2 ** steps) + e)\n",
    "                indexMove = a * mc / (np.sqrt(vc) + e)\n",
    "\n",
    "            if (indexMove == 0):\n",
    "                    indexMove = 1\n",
    "            elif (np.abs(indexMove) < 1):\n",
    "                #print(\"Gradient too small. Pushing...\")\n",
    "                indexMove = np.sign(indexMove)\n",
    "\n",
    "            print(f\"Move: {indexMove}\")\n",
    "            currentIndex = (currentIndex - int(np.round(indexMove)))\n",
    "\n",
    "        lastResult = currentResults\n",
    "        lastUsable = usable\n",
    "        print()\n",
    "    return worked, currentIndex, steps\n"
   ]
  },
  {
   "cell_type": "code",
   "execution_count": 55,
   "metadata": {},
   "outputs": [],
   "source": [
    "# GDworked, GDindex, GDtime = AI(model=\"ADAM\", a = 5)\n",
    "# print(\"---------\")\n",
    "# print(GDworked)\n",
    "# print(GDindex)\n",
    "# print(walls.possibleACIndex[GDindex])"
   ]
  }
 ],
 "metadata": {
  "kernelspec": {
   "display_name": "base",
   "language": "python",
   "name": "python3"
  },
  "language_info": {
   "codemirror_mode": {
    "name": "ipython",
    "version": 3
   },
   "file_extension": ".py",
   "mimetype": "text/x-python",
   "name": "python",
   "nbconvert_exporter": "python",
   "pygments_lexer": "ipython3",
   "version": "3.9.18"
  }
 },
 "nbformat": 4,
 "nbformat_minor": 2
}
