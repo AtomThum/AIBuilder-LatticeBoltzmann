{
 "cells": [
  {
   "cell_type": "code",
   "execution_count": 3,
   "metadata": {},
   "outputs": [
    {
     "data": {
      "text/plain": [
       "<matplotlib.image.AxesImage at 0x7ff110b37d40>"
      ]
     },
     "execution_count": 3,
     "metadata": {},
     "output_type": "execute_result"
    },
    {
     "data": {
      "image/png": "[encoded data removed]",
      "text/plain": [
       "<Figure size 640x480 with 1 Axes>"
      ]
     },
     "metadata": {},
     "output_type": "display_data"
    }
   ],
   "source": [
    "import numpy as np\n",
    "import matplotlib.pyplot as plt\n",
    "import matplotlib.animation as anim\n",
    "import itertools as itr\n",
    "import copy\n",
    "from simulation import Simulation\n",
    "from boundaries import WallBoundary, PressureBoundary, VelocityBoundary, AC\n",
    "from generators import WallGenerators\n",
    "\n",
    "yResolution = 24\n",
    "xResolution = 36\n",
    "\n",
    "walls = WallBoundary(yResolution, xResolution)\n",
    "walls.borderWall()\n",
    "walls.generateRoom()\n",
    "walls.updateInvertedBoundary()\n",
    "walls.generateACDirections()\n",
    "walls.indexPossibleACPos()\n",
    "\n",
    "plt.imshow(walls.possibleACPos)"
   ]
  },
  {
   "cell_type": "code",
   "execution_count": 4,
   "metadata": {},
   "outputs": [
    {
     "data": {
      "text/plain": [
       "[(np.int64(2), np.int64(10)),\n",
       " (np.int64(3), np.int64(10)),\n",
       " (np.int64(4), np.int64(10)),\n",
       " (np.int64(4), np.int64(11)),\n",
       " (np.int64(5), np.int64(11)),\n",
       " (np.int64(6), np.int64(11)),\n",
       " (np.int64(7), np.int64(11)),\n",
       " (np.int64(8), np.int64(11)),\n",
       " (np.int64(9), np.int64(11)),\n",
       " (np.int64(10), np.int64(12)),\n",
       " (np.int64(10), np.int64(13)),\n",
       " (np.int64(10), np.int64(14)),\n",
       " (np.int64(10), np.int64(15)),\n",
       " (np.int64(10), np.int64(16)),\n",
       " (np.int64(10), np.int64(17)),\n",
       " (np.int64(10), np.int64(18)),\n",
       " (np.int64(10), np.int64(19)),\n",
       " (np.int64(10), np.int64(20)),\n",
       " (np.int64(9), np.int64(21)),\n",
       " (np.int64(8), np.int64(21)),\n",
       " (np.int64(7), np.int64(21)),\n",
       " (np.int64(6), np.int64(21)),\n",
       " (np.int64(5), np.int64(21)),\n",
       " (np.int64(4), np.int64(21)),\n",
       " (np.int64(3), np.int64(21)),\n",
       " (np.int64(2), np.int64(21)),\n",
       " (np.int64(1), np.int64(21)),\n",
       " (np.int64(1), np.int64(22)),\n",
       " (np.int64(1), np.int64(23)),\n",
       " (np.int64(1), np.int64(24)),\n",
       " (np.int64(1), np.int64(25)),\n",
       " (np.int64(1), np.int64(26)),\n",
       " (np.int64(1), np.int64(27)),\n",
       " (np.int64(1), np.int64(28)),\n",
       " (np.int64(1), np.int64(29)),\n",
       " (np.int64(2), np.int64(29)),\n",
       " (np.int64(3), np.int64(29)),\n",
       " (np.int64(4), np.int64(30)),\n",
       " (np.int64(5), np.int64(30)),\n",
       " (np.int64(6), np.int64(30)),\n",
       " (np.int64(7), np.int64(30)),\n",
       " (np.int64(8), np.int64(29)),\n",
       " (np.int64(9), np.int64(30)),\n",
       " (np.int64(10), np.int64(30)),\n",
       " (np.int64(11), np.int64(30)),\n",
       " (np.int64(12), np.int64(31)),\n",
       " (np.int64(13), np.int64(32)),\n",
       " (np.int64(13), np.int64(33)),\n",
       " (np.int64(13), np.int64(34)),\n",
       " (np.int64(14), np.int64(34)),\n",
       " (np.int64(15), np.int64(34)),\n",
       " (np.int64(16), np.int64(34)),\n",
       " (np.int64(17), np.int64(34)),\n",
       " (np.int64(17), np.int64(33)),\n",
       " (np.int64(17), np.int64(32)),\n",
       " (np.int64(17), np.int64(31)),\n",
       " (np.int64(17), np.int64(30)),\n",
       " (np.int64(17), np.int64(29)),\n",
       " (np.int64(17), np.int64(28)),\n",
       " (np.int64(17), np.int64(27)),\n",
       " (np.int64(18), np.int64(26)),\n",
       " (np.int64(19), np.int64(26)),\n",
       " (np.int64(20), np.int64(26)),\n",
       " (np.int64(21), np.int64(26)),\n",
       " (np.int64(22), np.int64(26)),\n",
       " (np.int64(22), np.int64(25)),\n",
       " (np.int64(22), np.int64(24)),\n",
       " (np.int64(22), np.int64(23)),\n",
       " (np.int64(22), np.int64(22)),\n",
       " (np.int64(22), np.int64(21)),\n",
       " (np.int64(22), np.int64(20)),\n",
       " (np.int64(21), np.int64(20)),\n",
       " (np.int64(20), np.int64(20)),\n",
       " (np.int64(19), np.int64(19)),\n",
       " (np.int64(18), np.int64(19)),\n",
       " (np.int64(17), np.int64(18)),\n",
       " (np.int64(16), np.int64(17)),\n",
       " (np.int64(16), np.int64(16)),\n",
       " (np.int64(15), np.int64(15)),\n",
       " (np.int64(15), np.int64(14)),\n",
       " (np.int64(15), np.int64(13)),\n",
       " (np.int64(14), np.int64(12)),\n",
       " (np.int64(15), np.int64(11)),\n",
       " (np.int64(15), np.int64(10)),\n",
       " (np.int64(15), np.int64(9)),\n",
       " (np.int64(16), np.int64(8)),\n",
       " (np.int64(16), np.int64(7)),\n",
       " (np.int64(17), np.int64(6)),\n",
       " (np.int64(18), np.int64(5)),\n",
       " (np.int64(19), np.int64(5)),\n",
       " (np.int64(19), np.int64(4)),\n",
       " (np.int64(18), np.int64(3)),\n",
       " (np.int64(18), np.int64(2)),\n",
       " (np.int64(18), np.int64(1)),\n",
       " (np.int64(17), np.int64(1)),\n",
       " (np.int64(16), np.int64(1)),\n",
       " (np.int64(15), np.int64(1)),\n",
       " (np.int64(14), np.int64(1)),\n",
       " (np.int64(13), np.int64(1)),\n",
       " (np.int64(12), np.int64(1)),\n",
       " (np.int64(11), np.int64(1)),\n",
       " (np.int64(10), np.int64(1)),\n",
       " (np.int64(9), np.int64(1)),\n",
       " (np.int64(8), np.int64(1)),\n",
       " (np.int64(7), np.int64(1)),\n",
       " (np.int64(6), np.int64(1)),\n",
       " (np.int64(5), np.int64(1)),\n",
       " (np.int64(5), np.int64(2)),\n",
       " (np.int64(5), np.int64(3)),\n",
       " (np.int64(5), np.int64(4)),\n",
       " (np.int64(5), np.int64(5)),\n",
       " (np.int64(5), np.int64(6)),\n",
       " (np.int64(5), np.int64(7)),\n",
       " (np.int64(5), np.int64(8)),\n",
       " (np.int64(5), np.int64(9)),\n",
       " (np.int64(5), np.int64(9))]"
      ]
     },
     "execution_count": 4,
     "metadata": {},
     "output_type": "execute_result"
    }
   ],
   "source": [
    "walls.possibleACIndex"
   ]
  },
  {
   "cell_type": "code",
   "execution_count": 19,
   "metadata": {},
   "outputs": [
    {
     "name": "stdout",
     "output_type": "stream",
     "text": [
      "[<boundaries.VelocityBoundary object at 0x7f83bffc6d20>, <boundaries.VelocityBoundary object at 0x7f83a2b67200>, <boundaries.VelocityBoundary object at 0x7f83a2b67140>, <boundaries.VelocityBoundary object at 0x7f83a3fc7080>]\n"
     ]
    },
    {
     "name": "stderr",
     "output_type": "stream",
     "text": [
      "/home/puripat/Documents/Workspace/AIBuilder-LatticeBoltzmann/simulation.py:52: RuntimeWarning: invalid value encountered in divide\n",
      "  self.speedY = self.momentumY / self.density\n",
      "/home/puripat/Documents/Workspace/AIBuilder-LatticeBoltzmann/simulation.py:53: RuntimeWarning: invalid value encountered in divide\n",
      "  self.speedX = self.momentumX / self.density\n"
     ]
    }
   ],
   "source": [
    "ac = AC(10, 5, 0.9, np.pi/2, threshold=0)\n",
    "fluid = np.ones((yResolution, xResolution, 9)) / 10\n",
    "print(ac.velocityBoundaries)\n",
    "simulation = Simulation(yResolution, xResolution, fluid, walls, velocityBoundaries=ac.velocityBoundaries)\n"
   ]
  },
  {
   "cell_type": "code",
   "execution_count": 180,
   "metadata": {},
   "outputs": [
    {
     "data": {
      "text/plain": [
       "<matplotlib.colorbar.Colorbar at 0x7fdeb1667fe0>"
      ]
     },
     "execution_count": 180,
     "metadata": {},
     "output_type": "execute_result"
    },
    {
     "data": {
      "image/png": "[encoded data removed]",
      "text/plain": [
       "<Figure size 640x480 with 2 Axes>"
      ]
     },
     "metadata": {},
     "output_type": "display_data"
    }
   ],
   "source": [
    "simulation.simulate(5)\n",
    "simulation.fluid = np.abs(simulation.fluid)\n",
    "plt.imshow(simulation.density)\n",
    "plt.colorbar()"
   ]
  },
  {
   "cell_type": "code",
   "execution_count": 4,
   "metadata": {},
   "outputs": [
    {
     "data": {
      "text/plain": [
       "1"
      ]
     },
     "execution_count": 4,
     "metadata": {},
     "output_type": "execute_result"
    }
   ],
   "source": [
    "simulation.step"
   ]
  }
 ],
 "metadata": {
  "kernelspec": {
   "display_name": "Python 3",
   "language": "python",
   "name": "python3"
  },
  "language_info": {
   "codemirror_mode": {
    "name": "ipython",
    "version": 3
   },
   "file_extension": ".py",
   "mimetype": "text/x-python",
   "name": "python",
   "nbconvert_exporter": "python",
   "pygments_lexer": "ipython3",
   "version": "3.12.7"
  }
 },
 "nbformat": 4,
 "nbformat_minor": 2
}
