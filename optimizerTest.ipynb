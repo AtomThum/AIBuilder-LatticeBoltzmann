{
 "cells": [
  {
   "cell_type": "code",
   "execution_count": null,
   "metadata": {},
   "outputs": [],
   "source": [
    "import numpy as np\n",
    "import matplotlib.pyplot as plt\n",
    "import matplotlib.animation as anim\n",
    "import itertools as itr\n",
    "import copy\n",
    "from simulation import Simulation\n",
    "from boundaries import WallBoundary, PressureBoundary, VelocityBoundary, AC\n",
    "from generators import WallGenerators\n",
    "\n",
    "yResolution = 24\n",
    "xResolution = 36\n",
    "\n",
    "walls = WallBoundary(yResolution, xResolution)\n",
    "walls.borderWall()\n",
    "walls.generateRoom()\n",
    "walls.updateInvertedBoundary()\n",
    "walls.generateACDirections()\n",
    "walls.indexPossibleACPos()\n",
    "\n",
    "plt.imshow(walls.possibleACPos)"
   ]
  },
  {
   "cell_type": "code",
   "execution_count": null,
   "metadata": {},
   "outputs": [],
   "source": [
    "ac = AC(10, 5, 0.9, np.pi/2, threshold=0)\n",
    "fluid = np.ones((yResolution, xResolution, 9)) / 10\n",
    "print(ac.velocityBoundaries)\n",
    "simulation = Simulation(yResolution, xResolution, fluid, walls, velocityBoundaries=ac.velocityBoundaries)\n"
   ]
  },
  {
   "cell_type": "code",
   "execution_count": null,
   "metadata": {},
   "outputs": [],
   "source": [
    "simulation.simulate(5)\n",
    "simulation.fluid = np.abs(simulation.fluid)\n",
    "plt.imshow(simulation.density)\n",
    "plt.colorbar()"
   ]
  }
 ],
 "metadata": {
  "kernelspec": {
   "display_name": "Python 3",
   "language": "python",
   "name": "python3"
  },
  "language_info": {
   "codemirror_mode": {
    "name": "ipython",
    "version": 3
   },
   "file_extension": ".py",
   "mimetype": "text/x-python",
   "name": "python",
   "nbconvert_exporter": "python",
   "pygments_lexer": "ipython3",
   "version": "3.13.0"
  }
 },
 "nbformat": 4,
 "nbformat_minor": 2
}
