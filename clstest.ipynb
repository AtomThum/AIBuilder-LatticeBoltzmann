{
 "cells": [
  {
   "cell_type": "code",
   "execution_count": 1,
   "metadata": {},
   "outputs": [],
   "source": [
    "import numpy as np\n",
    "import matplotlib.pyplot as plt\n",
    "import matplotlib.animation as anim\n",
    "import itertools as itr\n",
    "from boundaries import WallBoundary, PressureBoundary, VelocityBoundary\n",
    "from generators import WallGenerators\n",
    "from simulation import Simulation\n",
    "\n",
    "xResolution = 30\n",
    "yResolution = 30\n",
    "fluid = np.ones((xResolution, yResolution, 9))\n",
    "boundary = WallBoundary(xResolution, yResolution, False)\n",
    "boundary.borderWall()\n",
    "generators = WallGenerators(boundary)\n",
    "\n",
    "simulation = Simulation(xResolution, yResolution, fluid, boundary)"
   ]
  },
  {
   "cell_type": "code",
   "execution_count": 3,
   "metadata": {},
   "outputs": [
    {
     "name": "stderr",
     "output_type": "stream",
     "text": [
      "/home/puripat/Documents/Workspace/AIBuilder-LatticeBoltzmann/simulation.py:50: RuntimeWarning: invalid value encountered in divide\n",
      "  speedX = np.sum(fluid * unitX, axis=2) / density\n",
      "/home/puripat/Documents/Workspace/AIBuilder-LatticeBoltzmann/simulation.py:51: RuntimeWarning: invalid value encountered in divide\n",
      "  speedY = np.sum(fluid * unitY, axis=2) / density\n"
     ]
    },
    {
     "ename": "AttributeError",
     "evalue": "'Simulation' object has no attribute 'boundary'",
     "output_type": "error",
     "traceback": [
      "\u001b[0;31m---------------------------------------------------------------------------\u001b[0m",
      "\u001b[0;31mAttributeError\u001b[0m                            Traceback (most recent call last)",
      "Cell \u001b[0;32mIn[3], line 1\u001b[0m\n\u001b[0;32m----> 1\u001b[0m \u001b[43msimulation\u001b[49m\u001b[38;5;241;43m.\u001b[39;49m\u001b[43mstepFluid\u001b[49m\u001b[43m(\u001b[49m\u001b[43m)\u001b[49m\n",
      "File \u001b[0;32m~/Documents/Workspace/AIBuilder-LatticeBoltzmann/simulation.py:76\u001b[0m, in \u001b[0;36mSimulation.stepFluid\u001b[0;34m(self)\u001b[0m\n\u001b[1;32m     73\u001b[0m     fluid[:, :, latticeIndex] \u001b[38;5;241m=\u001b[39m np\u001b[38;5;241m.\u001b[39mroll(fluid[:, :, latticeIndex], shiftX, axis\u001b[38;5;241m=\u001b[39m\u001b[38;5;241m1\u001b[39m)\n\u001b[1;32m     74\u001b[0m     fluid[:, :, latticeIndex] \u001b[38;5;241m=\u001b[39m np\u001b[38;5;241m.\u001b[39mroll(fluid[:, :, latticeIndex], shiftY, axis\u001b[38;5;241m=\u001b[39m\u001b[38;5;241m0\u001b[39m)\n\u001b[0;32m---> 76\u001b[0m fluidBoundary \u001b[38;5;241m=\u001b[39m fluid[\u001b[38;5;28;43mself\u001b[39;49m\u001b[38;5;241;43m.\u001b[39;49m\u001b[43mboundary\u001b[49m\u001b[38;5;241m.\u001b[39mboundary, :]\n\u001b[1;32m     77\u001b[0m fluidBoundary \u001b[38;5;241m=\u001b[39m fluidBoundary[:, [\u001b[38;5;241m0\u001b[39m, \u001b[38;5;241m3\u001b[39m, \u001b[38;5;241m4\u001b[39m, \u001b[38;5;241m1\u001b[39m, \u001b[38;5;241m2\u001b[39m, \u001b[38;5;241m7\u001b[39m, \u001b[38;5;241m8\u001b[39m, \u001b[38;5;241m5\u001b[39m, \u001b[38;5;241m6\u001b[39m]]\n\u001b[1;32m     78\u001b[0m fluid[\u001b[38;5;28mself\u001b[39m\u001b[38;5;241m.\u001b[39mboundary\u001b[38;5;241m.\u001b[39mboundary, :] \u001b[38;5;241m=\u001b[39m fluidBoundary\n",
      "\u001b[0;31mAttributeError\u001b[0m: 'Simulation' object has no attribute 'boundary'"
     ]
    }
   ],
   "source": [
    "simulation.stepFluid()"
   ]
  }
 ],
 "metadata": {
  "kernelspec": {
   "display_name": "Python 3",
   "language": "python",
   "name": "python3"
  },
  "language_info": {
   "codemirror_mode": {
    "name": "ipython",
    "version": 3
   },
   "file_extension": ".py",
   "mimetype": "text/x-python",
   "name": "python",
   "nbconvert_exporter": "python",
   "pygments_lexer": "ipython3",
   "version": "3.12.7"
  }
 },
 "nbformat": 4,
 "nbformat_minor": 2
}
