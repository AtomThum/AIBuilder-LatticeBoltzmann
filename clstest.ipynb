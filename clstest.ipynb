{
 "cells": [
  {
   "cell_type": "code",
   "execution_count": null,
   "metadata": {},
   "outputs": [],
   "source": [
    "import numpy as np\n",
    "import matplotlib.pyplot as plt\n",
    "import matplotlib.animation as anim\n",
    "import itertools as itr\n",
    "import copy\n",
    "from boundaries import WallBoundary, PressureBoundary, VelocityBoundary\n",
    "from generators import WallGenerators\n",
    "from simulation import Simulation\n",
    "import random\n",
    "\n",
    "# np.seterr(divide=None, invalid=None)  # For suppressing warnings. Totally optional.\n",
    "\n",
    "yResolution = 24\n",
    "xResolution = 36\n",
    "initCondition = np.ones((yResolution, xResolution, Simulation.latticeSize)) / 9\n",
    "walls = WallBoundary(yResolution, xResolution)\n",
    "# walls.borderWall()\n",
    "walls.cylindricalWall([12, 18], 5)\n",
    "velocityInlet = [] # [VelocityBoundary(12, 2, 1, 1)]\n",
    "pressureInlet = [PressureBoundary(12, 2, 1, 0, 1)]\n",
    "\n",
    "simulation = Simulation(\n",
    "    yResolution, xResolution, initCondition, walls, velocityBoundaries=velocityInlet, pressureBoundaries=pressureInlet\n",
    ")\n",
    "\n",
    "plt.imshow(simulation.density, cmap=\"hot\", interpolation=\"nearest\")"
   ]
  },
  {
   "cell_type": "code",
   "execution_count": null,
   "metadata": {},
   "outputs": [],
   "source": [
    "yResolution = 24\n",
    "xResolution = 36\n",
    "initCondition = np.ones((yResolution, xResolution, Simulation.latticeSize)) / 9\n",
    "walls = WallBoundary(yResolution, xResolution)\n",
    "# walls.borderWall()\n",
    "\n",
    "for i in random.sample(range(8), k = random.randint(1,8)):\n",
    "    \n",
    "    possiblePositions = [(int(yResolution/3), xResolution - 1), (0, int(xResolution/3)), (int(yResolution/3), 0), (yResolution - 1, int(xResolution/3)), (0, xResolution - 1), (0, 0), (yResolution - 1, 0), (yResolution - 1, xResolution - 1)]\n",
    "\n",
    "    wallPos = possiblePositions[i]\n",
    "    maxSize = int(min(yResolution, xResolution) * 0.4)\n",
    "    minSize = int(min(yResolution, xResolution) * 0.2)\n",
    "    if random.random() < 0.5:\n",
    "        walls.cylindricalWall(wallPos, random.randint(minSize, maxSize))\n",
    "    else:\n",
    "        directions = [(1,-1),(1,1),(1,1),(-1,1),(1,-1),(1,1),(-1,1),(-1,-1)]\n",
    "        endPos = (wallPos[0] + (random.randint(minSize, maxSize)*directions[i][0]), wallPos[1] + (random.randint(minSize, maxSize)*directions[i][1]))\n",
    "        walls.filledStraightRectangularWall(wallPos, endPos)\n",
    "    #print(f\"{i} {wallPos} {endPos} {directions[i]}\")\n",
    "\n",
    "walls.borderWall()\n",
    "\n",
    "velocityInlet = [VelocityBoundary(12, 2, 1, 1)]\n",
    "#pressureInlet = [PressureBoundary(12, 2, 1, 0, 1)]\n",
    "\n",
    "simulation = Simulation(\n",
    "    yResolution, xResolution, initCondition, walls, velocityBoundaries=velocityInlet, pressureBoundaries=pressureInlet\n",
    ")\n",
    "\n",
    "plt.imshow(simulation.density, cmap=\"hot\", interpolation=\"nearest\")"
   ]
  },
  {
   "cell_type": "code",
   "execution_count": null,
   "metadata": {},
   "outputs": [],
   "source": [
    "yResolution = 48\n",
    "xResolution = 32\n",
    "initCondition = np.ones((yResolution, xResolution, Simulation.latticeSize)) / 9\n",
    "walls = WallBoundary(yResolution, xResolution)\n",
    "# walls.borderWall()\n",
    "walls.borderWall()\n",
    "conditions = walls.generateRoom()\n",
    "walls.generateIndex()\n",
    "walls.generateACDirections()\n",
    "walls.indexPossibleACPos()\n",
    "print(conditions)\n",
    "print(walls.possibleACIndex)\n",
    "#velocityInlet = [VelocityBoundary(12, 2, 1, 1)]\n",
    "#pressureInlet = [PressureBoundary(12, 2, 1, 0, 1)]\n",
    "\n",
    "simulation = Simulation(\n",
    "    yResolution, xResolution, initCondition, walls, velocityBoundaries=velocityInlet, pressureBoundaries=pressureInlet\n",
    ")\n",
    "\n",
    "plt.imshow(simulation.density, cmap=\"hot\", interpolation=\"nearest\")"
   ]
  },
  {
   "cell_type": "code",
   "execution_count": null,
   "metadata": {},
   "outputs": [],
   "source": [
    "fig, ax = plt.subplots()\n",
    "heatmap  = ax.imshow(walls.boundary, cmap=\"hot\", interpolation=\"nearest\")\n",
    "fig.colorbar(heatmap)"
   ]
  },
  {
   "cell_type": "code",
   "execution_count": null,
   "metadata": {},
   "outputs": [],
   "source": [
    "walls.generateIndex()\n",
    "walls.generateACDirections()\n",
    "walls.indexPossibleACPos()"
   ]
  },
  {
   "cell_type": "code",
   "execution_count": null,
   "metadata": {},
   "outputs": [],
   "source": [
    "#walls.possibleACPos\n",
    "fig, ax = plt.subplots()\n",
    "heatmap  = ax.imshow(walls.invertedBoundary, cmap=\"hot\", interpolation=\"nearest\")\n",
    "fig.colorbar(heatmap)\n",
    "ax.scatter([i[1] for i in walls.possibleACIndex], [i[0] for i in walls.possibleACIndex])\n",
    "print(walls.possibleACIndex)\n",
    "\n",
    "# outPutDirectionsY = np.array([WallBoundary.unitVect[j][0] for i in walls.possibleACDirections for j in i])\n",
    "# outPutDirectionsX = np.array([WallBoundary.unitVect[j][1] for i in walls.possibleACDirections for j in i])\n",
    "# outPutPositionsX = [i[0] for index, i in enumerate(walls.possibleACPos) for j in range(len(walls.possibleACDirections[index]))]\n",
    "# print(len(outPutPositionsX))\n",
    "# outPutPositionsY = [i[1] for index, i in enumerate(walls.possibleACPos) for j in range(len(walls.possibleACDirections[index]))]\n",
    "# quivermap = ax.quiver(outPutPositionsY, outPutPositionsX, 310*outPutDirectionsX, -310*outPutDirectionsY)"
   ]
  },
  {
   "cell_type": "code",
   "execution_count": null,
   "metadata": {},
   "outputs": [],
   "source": [
    "walls.boundaryIndex\n",
    "walls.boundary\n",
    "from scipy.ndimage import convolve\n",
    "def numerical_inverse(n):\n",
    "    return int(n != 1)\n",
    "\n",
    "applyall = np.vectorize(numerical_inverse)\n",
    "inverted = applyall(walls.boundary.astype(int))\n",
    "#print(inverted)\n",
    "#plt.imshow(inverted, cmap=\"hot\", interpolation=\"nearest\")\n",
    "padded_array = np.pad(inverted, pad_width=1, mode='constant', constant_values=0)\n",
    "kernel = [[1,1,1],[1,0,1],[1,1,1]]\n",
    "edgeMinesweeper = convolve(padded_array, kernel)[1:-1, 1:-1] \n",
    "edgesProcessed = np.logical_and(edgeMinesweeper >= 2, edgeMinesweeper <= 5)\n",
    "\n",
    "edges = []\n",
    "edgesX = []\n",
    "edgesY = []\n",
    "for i in walls.boundaryIndex:\n",
    "    if (edgesProcessed[i[0], i[1]]):\n",
    "        edges.append((i[0], i[1]))\n",
    "        edgesX.append(i[0])\n",
    "        edgesY.append(i[1])\n",
    "\n",
    "print(edges)\n",
    "fig, ax = plt.subplots()\n",
    "heatmap  = ax.imshow(inverted, cmap=\"hot\", interpolation=\"nearest\")\n",
    "fig.colorbar(heatmap)\n",
    "ax.scatter(edgesY, edgesX)"
   ]
  },
  {
   "cell_type": "code",
   "execution_count": null,
   "metadata": {},
   "outputs": [],
   "source": [
    "from scipy.ndimage import convolve\n",
    "\n",
    "def numerical_inverse(n):\n",
    "    return int(n != 1)\n",
    "\n",
    "data = np.array([[1,1,1,1],[1,0,0,1],[1,0,0,1],[1,1,1,1]])\n",
    "\n",
    "applyall = np.vectorize(numerical_inverse)\n",
    "inverted = applyall(data)\n",
    "print(inverted)\n",
    "\n",
    "padded_array = np.pad(inverted, pad_width=1, mode='constant', constant_values=0)\n",
    "kernel = [[1,1,1],[1,0,1],[1,1,1]]\n",
    "\n",
    "\n",
    "\n",
    "print(convolve(padded_array, kernel)[1:-1, 1:-1])"
   ]
  },
  {
   "cell_type": "code",
   "execution_count": null,
   "metadata": {},
   "outputs": [],
   "source": [
    "n = [1,2,3,4]\n",
    "m = [1,2,3,4]"
   ]
  },
  {
   "cell_type": "code",
   "execution_count": null,
   "metadata": {},
   "outputs": [],
   "source": [
    "simulation.simulate(step = 10)\n",
    "print(simulation.isAtDensityEquilibirum(1.9))\n",
    "\n",
    "densityPlot = copy.copy(simulation.density)\n",
    "densityPlot[walls.invertedBoundary] -= np.min(densityPlot[walls.invertedBoundary])\n",
    "\n",
    "fig, ax = plt.subplots()\n",
    "heatmap = ax.imshow(densityPlot, cmap = \"rainbow\", interpolation = \"nearest\")\n",
    "quivermap = ax.quiver(simulation.xIndex, simulation.yIndex, simulation.momentumX, -simulation.momentumY)\n",
    "fig.colorbar(heatmap)\n",
    "# print(simulation.fluid)\n",
    "plt.show()"
   ]
  }
 ],
 "metadata": {
  "kernelspec": {
   "display_name": "Python 3",
   "language": "python",
   "name": "python3"
  },
  "language_info": {
   "codemirror_mode": {
    "name": "ipython",
    "version": 3
   },
   "file_extension": ".py",
   "mimetype": "text/x-python",
   "name": "python",
   "nbconvert_exporter": "python",
   "pygments_lexer": "ipython3",
   "version": "3.13.0"
  }
 },
 "nbformat": 4,
 "nbformat_minor": 2
}
