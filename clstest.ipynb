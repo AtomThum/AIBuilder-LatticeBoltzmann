{
 "cells": [
  {
   "cell_type": "code",
   "execution_count": null,
   "metadata": {},
   "outputs": [],
   "source": [
    "import numpy as np\n",
    "import matplotlib.pyplot as plt\n",
    "import matplotlib.animation as anim\n",
    "import itertools as itr\n",
    "import copy\n",
    "from boundaries import WallBoundary, PressureBoundary, VelocityBoundary\n",
    "from generators import WallGenerators\n",
    "from simulation import Simulation\n",
    "\n",
    "# np.seterr(divide=None, invalid=None)  # For suppressing warnings. Totally optional.\n",
    "\n",
    "yResolution = 24\n",
    "xResolution = 36\n",
    "initCondition = np.ones((yResolution, xResolution, Simulation.latticeSize)) / 9\n",
    "walls = WallBoundary(yResolution, xResolution)\n",
    "# walls.borderWall()\n",
    "walls.cylindricalWall([12, 18], 5)\n",
    "velocityInlet = [] # [VelocityBoundary(12, 2, 1, 1)]\n",
    "pressureInlet = [PressureBoundary(12, 2, 1, 0, 1)]\n",
    "\n",
    "simulation = Simulation(\n",
    "    yResolution, xResolution, initCondition, walls, velocityBoundaries=velocityInlet, pressureBoundaries=pressureInlet\n",
    ")\n",
    "\n",
    "plt.imshow(simulation.density, cmap=\"hot\", interpolation=\"nearest\")"
   ]
  },
  {
   "cell_type": "code",
   "execution_count": null,
   "metadata": {},
   "outputs": [],
   "source": [
    "simulation.simulate(step = 1)\n",
    "print(simulation.isAtDensityEquilibirum(3))\n",
    "\n",
    "densityPlot = copy.copy(simulation.density)\n",
    "densityPlot[walls.invertedBoundary] -= np.min(densityPlot[walls.invertedBoundary])\n",
    "\n",
    "fig, ax = plt.subplots()\n",
    "heatmap = ax.imshow(densityPlot, cmap = \"rainbow\", interpolation = \"nearest\")\n",
    "quivermap = ax.quiver(simulation.xIndex, simulation.yIndex, simulation.momentumX, -simulation.momentumY)\n",
    "fig.colorbar(heatmap)\n",
    "# print(simulation.fluid)\n",
    "plt.show()"
   ]
  }
 ],
 "metadata": {
  "kernelspec": {
   "display_name": "Python 3",
   "language": "python",
   "name": "python3"
  },
  "language_info": {
   "codemirror_mode": {
    "name": "ipython",
    "version": 3
   },
   "file_extension": ".py",
   "mimetype": "text/x-python",
   "name": "python",
   "nbconvert_exporter": "python",
   "pygments_lexer": "ipython3",
   "version": "3.12.7"
  }
 },
 "nbformat": 4,
 "nbformat_minor": 2
}
