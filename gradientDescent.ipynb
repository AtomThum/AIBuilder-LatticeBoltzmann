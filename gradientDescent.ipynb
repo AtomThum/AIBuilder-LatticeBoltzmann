{
 "cells": [
  {
   "cell_type": "code",
   "execution_count": 191,
   "metadata": {},
   "outputs": [],
   "source": [
    "import numpy as np\n",
    "import matplotlib.pyplot as plt\n",
    "import matplotlib.animation as anim\n",
    "import itertools as itr\n",
    "import copy\n",
    "from boundaries import WallBoundary, PressureBoundary, VelocityBoundary\n",
    "from generators import WallGenerators\n",
    "from simulation import Simulation\n",
    "import pandas as pd\n",
    "import random\n",
    "from openpyxl import load_workbook"
   ]
  },
  {
   "cell_type": "code",
   "execution_count": 192,
   "metadata": {},
   "outputs": [],
   "source": [
    "yResolution = random.randint(20,50)\n",
    "xResolution = random.randint(20,50)\n",
    "ACspeed = 1\n",
    "\n",
    "walls = WallBoundary(yResolution, xResolution)\n",
    "walls.borderWall()\n",
    "conditions = walls.generateRoom()\n",
    "walls.generateIndex()\n",
    "walls.generateACDirections()\n",
    "walls.indexPossibleACPos()\n",
    "\n",
    "bestPos = []\n",
    "bestDirection = []\n",
    "bestTemp = 0"
   ]
  },
  {
   "cell_type": "code",
   "execution_count": 193,
   "metadata": {},
   "outputs": [
    {
     "name": "stdout",
     "output_type": "stream",
     "text": [
      "[(2, 1), (3, 1), (4, 1), (5, 1), (6, 1), (7, 1), (8, 1), (9, 1), (10, 1), (11, 1), (12, 1), (13, 1), (14, 1), (14, 2), (14, 3), (14, 4), (15, 5), (16, 5), (17, 5), (18, 4), (18, 3), (18, 2), (18, 1), (19, 1), (20, 1), (21, 1), (22, 1), (23, 1), (24, 1), (25, 1), (26, 1), (27, 1), (27, 2), (28, 3), (29, 3), (30, 3), (30, 4), (30, 5), (30, 6), (30, 7), (30, 8), (30, 9), (30, 10), (30, 11), (30, 12), (30, 13), (30, 14), (30, 15), (30, 16), (30, 17), (30, 18), (30, 19), (30, 20), (30, 21), (30, 22), (30, 23), (30, 24), (30, 25), (30, 26), (30, 27), (29, 27), (28, 27), (27, 28), (27, 29), (27, 30), (27, 31), (26, 31), (25, 31), (24, 31), (23, 31), (22, 31), (21, 31), (20, 31), (19, 31), (18, 31), (17, 31), (16, 31), (15, 31), (14, 31), (13, 31), (12, 31), (11, 31), (10, 31), (9, 31), (8, 31), (7, 31), (6, 31), (5, 31), (4, 31), (3, 31), (2, 31), (1, 31), (1, 30), (1, 29), (1, 28), (1, 27), (1, 26), (1, 25), (1, 24), (1, 23), (1, 22), (1, 21), (1, 20), (1, 19), (1, 18), (1, 17), (1, 16), (1, 15), (1, 14), (1, 13), (1, 12), (1, 11), (1, 10), (1, 9), (1, 8), (1, 7), (1, 6), (1, 5), (1, 4), (1, 3), (1, 2), (1, 2)]\n"
     ]
    },
    {
     "data": {
      "image/png": "[encoded data removed]",
      "text/plain": [
       "<Figure size 640x480 with 1 Axes>"
      ]
     },
     "metadata": {},
     "output_type": "display_data"
    }
   ],
   "source": [
    "plt.imshow(walls.invertedBoundary, cmap=\"hot\", interpolation=\"nearest\")\n",
    "plt.scatter([i[1] for i in walls.possibleACIndex], [i[0] for i in walls.possibleACIndex])\n",
    "print(walls.possibleACIndex)"
   ]
  },
  {
   "cell_type": "code",
   "execution_count": 194,
   "metadata": {},
   "outputs": [],
   "source": [
    "def sim(pos):\n",
    "    for directionIndex, direction in enumerate(WallBoundary.unitVect):\n",
    "        #print(f\"Trying direction: {direction}...\")\n",
    "        pathOfFlow = [i+j for i, j in zip(pos, direction)]\n",
    "        reverseFlow = [i-j for i, j in zip(pos, direction)]\n",
    "        isNormal = (not walls.boundary[pathOfFlow[0], pathOfFlow[1]]) and (walls.boundary[reverseFlow[0], reverseFlow[1]])\n",
    "\n",
    "        if (isNormal):\n",
    "            velocityInlet = [VelocityBoundary(pos[0], pos[1], ACspeed, directionIndex)]\n",
    "            initCondition = np.ones((yResolution, xResolution, Simulation.latticeSize)) / 9\n",
    "            simulation = Simulation(\n",
    "                yResolution, xResolution, initCondition, walls, velocityBoundaries=velocityInlet, pressureBoundaries=[]\n",
    "            )\n",
    "            simTime, stable = simulation.simulateUntilEquilibrium(equilibriumThreshold=2.5, limit = 500)\n",
    "            results = simulation.getMomentum()\n",
    "            #print(\"Done!\")\n",
    "            if not stable or simTime == 500:\n",
    "                #print(\"It exploded :() or didn't equalize\")\n",
    "                return False, results\n",
    "            else:\n",
    "                return True, results"
   ]
  },
  {
   "cell_type": "code",
   "execution_count": null,
   "metadata": {},
   "outputs": [],
   "source": [
    "learningRate = 0.5"
   ]
  },
  {
   "cell_type": "code",
   "execution_count": 196,
   "metadata": {},
   "outputs": [
    {
     "name": "stdout",
     "output_type": "stream",
     "text": [
      "Pos: (2, 1)\n",
      "Simulating at pos...\n",
      "Stable\n",
      "Forward Difference: 0.9240177848798865\n",
      "Backward Difference: 6.384079834908322\n",
      "Gradient: 7.308097619788208\n",
      "------------\n",
      "Pos: (9, 1)\n",
      "Simulating at pos...\n",
      "Stable\n",
      "Forward Difference: -0.13759136754276735\n",
      "Backward Difference: -0.32898462612148904\n",
      "Gradient: -0.4665759936642564\n",
      "Gradient too small. Pushing...\n",
      "------------\n",
      "Pos: (8, 1)\n",
      "Simulating at pos...\n",
      "Stable\n",
      "Forward Difference: -0.32898462612148904\n",
      "Backward Difference: -0.32679855667549074\n",
      "Gradient: -0.6557831827969798\n",
      "Gradient too small. Pushing...\n",
      "------------\n",
      "Pos: (7, 1)\n",
      "Simulating at pos...\n",
      "Stable\n",
      "Forward Difference: -0.32679855667549074\n",
      "Backward Difference: -0.20496408253807807\n",
      "Gradient: -0.5317626392135688\n",
      "Gradient too small. Pushing...\n",
      "------------\n",
      "Pos: (6, 1)\n",
      "Simulating at pos...\n",
      "Stable\n",
      "Forward Difference: -0.20496408253807807\n",
      "Backward Difference: -0.07475566268872225\n",
      "Gradient: -0.2797197452268003\n",
      "Gradient too small. Pushing...\n",
      "------------\n",
      "Pos: (5, 1)\n",
      "Simulating at pos...\n",
      "Stable\n",
      "Forward Difference: -0.07475566268872225\n",
      "Backward Difference: 0.18210759293174839\n",
      "Reached Equil.\n",
      "Worked! (5, 1)\n"
     ]
    }
   ],
   "source": [
    "currentIndex = 0\n",
    "worked = False\n",
    "length = len(walls.possibleACIndex)\n",
    "visitedAll = np.zeros(length)\n",
    "while True:\n",
    "    visitedAll[currentIndex] = 1\n",
    "    if (sum(visitedAll) == length):\n",
    "        break\n",
    "    \n",
    "    currentPos = walls.possibleACIndex[currentIndex]\n",
    "    print(f\"Pos: {currentPos}\")\n",
    "    print(\"Simulating at pos...\")\n",
    "    usable, currentResults = sim(currentPos)\n",
    "    if (not usable):\n",
    "        print(\"Not stable\")\n",
    "        currentIndex += 1\n",
    "        \n",
    "    else:\n",
    "        print(\"Stable\")\n",
    "        forwardPos = walls.possibleACIndex[(currentIndex + 1) % length]\n",
    "        forwardUsable, forwardResults = sim(forwardPos)\n",
    "        forwardDif = forwardResults - currentResults\n",
    "\n",
    "        backwardPos = walls.possibleACIndex[(currentIndex - 1) % length] \n",
    "        backwardUsable, backwardResults = sim(backwardPos)\n",
    "        backwardDif = currentResults - backwardResults\n",
    "\n",
    "        forwardMessage = (str(forwardDif) if forwardUsable else \"Unusable\") \n",
    "        print(f\"Forward Difference: {forwardMessage}\")\n",
    "\n",
    "        backwardMessage = (str(backwardDif) if backwardUsable else \"Unusable\") \n",
    "        print(f\"Backward Difference: {backwardMessage}\")\n",
    "\n",
    "        if ((forwardDif < 0 and forwardUsable) and (backwardDif > 0 and backwardUsable)):\n",
    "            print(\"Reached Equil.\")\n",
    "            worked = True\n",
    "            break\n",
    "        else:\n",
    "            gradient = (forwardDif * forwardUsable) + (backwardDif * backwardUsable)\n",
    "            print(f\"Gradient: {gradient}\")\n",
    "            indexMove = learningRate * gradient\n",
    "            if (indexMove < 1):\n",
    "                print(\"Gradient too small. Pushing...\")\n",
    "                indexMove = np.sign(indexMove)\n",
    "            \n",
    "            currentIndex = (currentIndex + int(indexMove)) % length\n",
    "    \n",
    "    print(\"------------\")\n",
    "\n",
    "if (not worked):\n",
    "    print(\"Didn't work.\")\n",
    "else:   \n",
    "    print(f\"Worked! {walls.possibleACIndex[currentIndex]}\")\n"
   ]
  }
 ],
 "metadata": {
  "kernelspec": {
   "display_name": "base",
   "language": "python",
   "name": "python3"
  },
  "language_info": {
   "codemirror_mode": {
    "name": "ipython",
    "version": 3
   },
   "file_extension": ".py",
   "mimetype": "text/x-python",
   "name": "python",
   "nbconvert_exporter": "python",
   "pygments_lexer": "ipython3",
   "version": "3.9.18"
  }
 },
 "nbformat": 4,
 "nbformat_minor": 2
}
