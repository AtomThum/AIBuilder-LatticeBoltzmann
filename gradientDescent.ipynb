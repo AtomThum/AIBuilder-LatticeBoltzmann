{
 "cells": [
  {
   "cell_type": "code",
   "execution_count": null,
   "metadata": {},
   "outputs": [],
   "source": [
    "import numpy as np\n",
    "import matplotlib.pyplot as plt\n",
    "import matplotlib.animation as anim\n",
    "import itertools as itr\n",
    "import copy\n",
    "from boundaries import WallBoundary, PressureBoundary, VelocityBoundary\n",
    "from generators import WallGenerators\n",
    "from simulation import Simulation\n",
    "import pandas as pd\n",
    "import random\n",
    "from openpyxl import load_workbook"
   ]
  },
  {
   "cell_type": "code",
   "execution_count": null,
   "metadata": {},
   "outputs": [],
   "source": [
    "yResolution = random.randint(20,50)\n",
    "xResolution = random.randint(20,50)\n",
    "ACspeed = 1\n",
    "\n",
    "walls = WallBoundary(yResolution, xResolution)\n",
    "walls.borderWall()\n",
    "conditions = walls.generateRoom()\n",
    "walls.generateIndex()\n",
    "walls.generateACDirections()\n",
    "walls.indexPossibleACPos()\n",
    "\n",
    "bestPos = []\n",
    "bestDirection = []\n",
    "bestTemp = 0"
   ]
  },
  {
   "cell_type": "code",
   "execution_count": null,
   "metadata": {},
   "outputs": [],
   "source": [
    "plt.imshow(walls.invertedBoundary, cmap=\"hot\", interpolation=\"nearest\")\n",
    "plt.scatter([i[1] for i in walls.possibleACIndex], [i[0] for i in walls.possibleACIndex])\n",
    "print(walls.possibleACIndex)"
   ]
  },
  {
   "cell_type": "code",
   "execution_count": null,
   "metadata": {},
   "outputs": [],
   "source": [
    "def sim(pos):\n",
    "    for directionIndex, direction in enumerate(WallBoundary.unitVect):\n",
    "        #print(f\"Trying direction: {direction}...\")\n",
    "        pathOfFlow = [i+j for i, j in zip(pos, direction)]\n",
    "        reverseFlow = [i-j for i, j in zip(pos, direction)]\n",
    "        isNormal = (not walls.boundary[pathOfFlow[0], pathOfFlow[1]]) and (walls.boundary[reverseFlow[0], reverseFlow[1]])\n",
    "\n",
    "        if (isNormal):\n",
    "            velocityInlet = [VelocityBoundary(pos[0], pos[1], ACspeed, directionIndex)]\n",
    "            initCondition = np.ones((yResolution, xResolution, Simulation.latticeSize)) / 9\n",
    "            simulation = Simulation(\n",
    "                yResolution, xResolution, initCondition, walls, velocityBoundaries=velocityInlet, pressureBoundaries=[]\n",
    "            )\n",
    "            simTime, stable = simulation.simulateUntilEquilibrium(equilibriumThreshold=2.5, limit = 500)\n",
    "            results = simulation.getMomentum()\n",
    "            #print(\"Done!\")\n",
    "            if not stable or simTime == 500:\n",
    "                #print(\"It exploded :() or didn't equalize\")\n",
    "                return False, results\n",
    "            else:\n",
    "                return True, results"
   ]
  },
  {
   "cell_type": "code",
   "execution_count": null,
   "metadata": {},
   "outputs": [],
   "source": [
    "learningRate = 0.5"
   ]
  },
  {
   "cell_type": "code",
   "execution_count": null,
   "metadata": {},
   "outputs": [],
   "source": [
    "currentIndex = 0\n",
    "worked = False\n",
    "length = len(walls.possibleACIndex)\n",
    "visitedAll = np.zeros(length)\n",
    "while True:\n",
    "    visitedAll[currentIndex] = 1\n",
    "    if (sum(visitedAll) == length):\n",
    "        break\n",
    "    \n",
    "    currentPos = walls.possibleACIndex[currentIndex]\n",
    "    print(f\"Pos: {currentPos}\")\n",
    "    print(\"Simulating at pos...\")\n",
    "    usable, currentResults = sim(currentPos)\n",
    "    if (not usable):\n",
    "        print(\"Not stable\")\n",
    "        currentIndex += 1\n",
    "        \n",
    "    else:\n",
    "        print(\"Stable\")\n",
    "        forwardPos = walls.possibleACIndex[(currentIndex + 1) % length]\n",
    "        forwardUsable, forwardResults = sim(forwardPos)\n",
    "        forwardDif = forwardResults - currentResults\n",
    "\n",
    "        backwardPos = walls.possibleACIndex[(currentIndex - 1) % length] \n",
    "        backwardUsable, backwardResults = sim(backwardPos)\n",
    "        backwardDif = currentResults - backwardResults\n",
    "\n",
    "        forwardMessage = (str(forwardDif) if forwardUsable else \"Unusable\") \n",
    "        print(f\"Forward Difference: {forwardMessage}\")\n",
    "\n",
    "        backwardMessage = (str(backwardDif) if backwardUsable else \"Unusable\") \n",
    "        print(f\"Backward Difference: {backwardMessage}\")\n",
    "\n",
    "        if ((forwardDif < 0 and forwardUsable) and (backwardDif > 0 and backwardUsable)):\n",
    "            print(\"Reached Equil.\")\n",
    "            worked = True\n",
    "            break\n",
    "        else:\n",
    "            gradient = (forwardDif * forwardUsable) + (backwardDif * backwardUsable)\n",
    "            print(f\"Gradient: {gradient}\")\n",
    "            indexMove = learningRate * gradient\n",
    "            if (indexMove < 1):\n",
    "                print(\"Gradient too small. Pushing...\")\n",
    "                indexMove = np.sign(indexMove)\n",
    "            \n",
    "            currentIndex = (currentIndex + int(indexMove)) % length\n",
    "    \n",
    "    print(\"------------\")\n",
    "\n",
    "if (not worked):\n",
    "    print(\"Didn't work.\")\n",
    "else:   \n",
    "    print(f\"Worked! {walls.possibleACIndex[currentIndex]}\")\n"
   ]
  }
 ],
 "metadata": {
  "kernelspec": {
   "display_name": "base",
   "language": "python",
   "name": "python3"
  },
  "language_info": {
   "codemirror_mode": {
    "name": "ipython",
    "version": 3
   },
   "file_extension": ".py",
   "mimetype": "text/x-python",
   "name": "python",
   "nbconvert_exporter": "python",
   "pygments_lexer": "ipython3",
   "version": "3.9.18"
  }
 },
 "nbformat": 4,
 "nbformat_minor": 2
}
