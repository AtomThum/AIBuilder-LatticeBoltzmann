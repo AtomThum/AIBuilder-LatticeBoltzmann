{
 "cells": [
  {
   "cell_type": "code",
   "execution_count": null,
   "metadata": {},
   "outputs": [],
   "source": [
    "import numpy as np\n",
    "import matplotlib.pyplot as plt\n",
    "import matplotlib.animation as anim\n",
    "import itertools as itr\n",
    "import copy\n",
    "from boundaries import WallBoundary, PressureBoundary, VelocityBoundary\n",
    "from generators import WallGenerators\n",
    "from simulation import Simulation\n",
    "import pandas as pd\n",
    "import random\n",
    "from openpyxl import load_workbook"
   ]
  },
  {
   "cell_type": "code",
   "execution_count": null,
   "metadata": {},
   "outputs": [],
   "source": [
    "yResolution = random.randint(20,50)\n",
    "xResolution = random.randint(20,50)\n",
    "ACspeed = 1\n",
    "\n",
    "walls = WallBoundary(yResolution, xResolution)\n",
    "walls.borderWall()\n",
    "conditions = walls.generateRoom()\n",
    "walls.generateIndex()\n",
    "walls.generateACDirections()\n",
    "walls.indexPossibleACPos()\n",
    "\n",
    "bestPos = []\n",
    "bestDirection = []\n",
    "bestTemp = 0"
   ]
  },
  {
   "cell_type": "code",
   "execution_count": null,
   "metadata": {},
   "outputs": [],
   "source": [
    "plt.imshow(walls.invertedBoundary, cmap=\"hot\", interpolation=\"nearest\")\n",
    "plt.scatter([i[1] for i in walls.possibleACIndex], [i[0] for i in walls.possibleACIndex])\n",
    "print(walls.possibleACIndex)"
   ]
  },
  {
   "cell_type": "code",
   "execution_count": null,
   "metadata": {},
   "outputs": [],
   "source": [
    "def sim(pos):\n",
    "    for directionIndex, direction in enumerate(WallBoundary.unitVect):\n",
    "        #print(f\"Trying direction: {direction}...\")\n",
    "        pathOfFlow = [i+j for i, j in zip(pos, direction)]\n",
    "        reverseFlow = [i-j for i, j in zip(pos, direction)]\n",
    "        isNormal = (not walls.boundary[pathOfFlow[0], pathOfFlow[1]]) and (walls.boundary[reverseFlow[0], reverseFlow[1]])\n",
    "\n",
    "        if (isNormal):\n",
    "            velocityInlet = [VelocityBoundary(pos[0], pos[1], ACspeed, directionIndex)]\n",
    "            initCondition = np.ones((yResolution, xResolution, Simulation.latticeSize)) / 9\n",
    "            simulation = Simulation(\n",
    "                yResolution, xResolution, initCondition, walls, velocityBoundaries=velocityInlet, pressureBoundaries=[]\n",
    "            )\n",
    "            simTime, stable = simulation.simulateUntilEquilibrium(equilibriumThreshold=2.5, limit = 500)\n",
    "            results = simulation.getMomentum()\n",
    "            #print(\"Done!\")\n",
    "            if not stable or simTime == 500:\n",
    "                #print(\"It exploded :() or didn't equalize\")\n",
    "                return False, simTime\n",
    "            else:\n",
    "                return True, simTime"
   ]
  },
  {
   "cell_type": "code",
   "execution_count": 121,
   "metadata": {},
   "outputs": [],
   "source": [
    "learningRate = 0.5"
   ]
  },
  {
   "cell_type": "code",
   "execution_count": null,
   "metadata": {},
   "outputs": [],
   "source": [
    "results, temp = bruteForce()\n",
    "print(results)"
   ]
  },
  {
   "cell_type": "code",
   "execution_count": null,
   "metadata": {},
   "outputs": [],
   "source": []
  },
  {
   "cell_type": "code",
   "execution_count": null,
   "metadata": {},
   "outputs": [
    {
     "name": "stdout",
     "output_type": "stream",
     "text": [
      "7.0\n",
      "[(1, 48)]\n"
     ]
    }
   ],
   "source": [
    "print(min(results))\n",
    "worst =  max(results)\n",
    "best = min(results)\n",
    "datarange = max(results) - min(results)\n",
    "ans = [walls.possibleACIndex[i] for i in range(len(results)) if results[i] == best]\n",
    "print(ans)"
   ]
  },
  {
   "cell_type": "code",
   "execution_count": null,
   "metadata": {},
   "outputs": [
    {
     "name": "stdout",
     "output_type": "stream",
     "text": [
      "GD\n",
      "Pos: (2, 7)\n",
      "Simulating at pos...\n",
      "Move: 210\n",
      "Pos: (1, 40)\n",
      "Simulating at pos...\n",
      "Move: 0\n",
      "Pos: (1, 41)\n",
      "Simulating at pos...\n",
      "Move: 0\n",
      "Pos: (1, 42)\n",
      "Simulating at pos...\n",
      "Move: 0\n",
      "Pos: (1, 43)\n",
      "Simulating at pos...\n",
      "Move: 0\n",
      "Pos: (1, 44)\n",
      "Simulating at pos...\n",
      "Move: 0\n",
      "Pos: (1, 45)\n",
      "Simulating at pos...\n",
      "Move: 0\n",
      "Pos: (1, 46)\n",
      "Simulating at pos...\n",
      "Move: 0\n",
      "Pos: (1, 47)\n",
      "Simulating at pos...\n",
      "Move: 0\n",
      "Pos: (1, 48)\n",
      "Simulating at pos...\n",
      "Move: -215\n",
      "GD worked, Pos: 135, Time: 10\n",
      "74.08191287878788\n"
     ]
    }
   ],
   "source": [
    "gdworked, gdpos, gdtime = gradientDescent(1)\n",
    "if (gdworked):\n",
    "    print(f\"GD worked, Pos: {gdpos}, Time: {gdtime}\")\n",
    "    print((results[gdpos] - worst)/ datarange)\n",
    "else:\n",
    "    print(\"GD didn't work\")"
   ]
  },
  {
   "cell_type": "code",
   "execution_count": null,
   "metadata": {},
   "outputs": [
    {
     "name": "stdout",
     "output_type": "stream",
     "text": [
      "ADAM\n",
      "Pos: (2, 7)\n",
      "Simulating at pos...\n",
      "Move: 31622.77660167901\n",
      "Pos: (44, 15)\n",
      "Simulating at pos...\n",
      "Move: 0.8715128819485739\n",
      "Pos: (44, 14)\n",
      "Simulating at pos...\n",
      "Move: 0.5515455352253738\n",
      "Pos: (44, 13)\n",
      "Simulating at pos...\n",
      "Move: 0.4079244070902482\n",
      "Pos: (44, 12)\n",
      "Simulating at pos...\n",
      "Move: 0.32021583145390553\n",
      "Pos: (44, 11)\n",
      "Simulating at pos...\n",
      "Move: 0.25495824007716267\n",
      "Pos: (44, 10)\n",
      "Simulating at pos...\n",
      "Move: 0.20221460473393219\n",
      "Pos: (44, 9)\n",
      "Simulating at pos...\n",
      "Move: 0.15473947664660948\n",
      "Pos: (44, 8)\n",
      "Simulating at pos...\n",
      "Move: 0.10312954266115439\n",
      "Pos: (44, 7)\n",
      "Simulating at pos...\n",
      "Move: 0.030901922487616657\n",
      "Pos: (44, 6)\n",
      "Simulating at pos...\n",
      "Move: -0.02034413134893128\n",
      "ADAM worked, Pos: 50, Time: 11\n",
      "-67.66808712121212\n"
     ]
    }
   ],
   "source": [
    "ADAMworked, ADAMpos, ADAMtime = ADAM(1, 0.9, 0.999)\n",
    "if (ADAMworked):\n",
    "    print(f\"ADAM worked, Pos: {ADAMpos}, Time: {ADAMtime}\")\n",
    "    print((results[gdpos] - worst)/ datarange)\n",
    "else:\n",
    "    print(\"ADAM didn't work\")"
   ]
  },
  {
   "cell_type": "code",
   "execution_count": null,
   "metadata": {},
   "outputs": [
    {
     "name": "stdout",
     "output_type": "stream",
     "text": [
      "ADAMW\n",
      "Pos: (2, 7)\n",
      "Simulating at pos...\n",
      "Move: 31622.77660167901\n",
      "Pos: (44, 15)\n",
      "Simulating at pos...\n",
      "Move: 0.8726447682940093\n",
      "Pos: (44, 14)\n",
      "Simulating at pos...\n",
      "Move: 0.5531353287347911\n",
      "Pos: (44, 13)\n",
      "Simulating at pos...\n",
      "Move: 0.4098449406723372\n",
      "Pos: (44, 12)\n",
      "Simulating at pos...\n",
      "Move: 0.32240379626602456\n",
      "Pos: (44, 11)\n",
      "Simulating at pos...\n",
      "Move: 0.25737336525353177\n",
      "Pos: (44, 10)\n",
      "Simulating at pos...\n",
      "Move: 0.2048261315386685\n",
      "Pos: (44, 9)\n",
      "Simulating at pos...\n",
      "Move: 0.15752186061193135\n",
      "Pos: (44, 8)\n",
      "Simulating at pos...\n",
      "Move: 0.10605658554431943\n",
      "Pos: (44, 7)\n",
      "Simulating at pos...\n",
      "Move: 0.03392802487698295\n",
      "Pos: (44, 6)\n",
      "Simulating at pos...\n",
      "Move: -0.01723137189380594\n",
      "ADAMW worked, Pos: 50, Time: 11\n",
      "-67.66808712121212\n"
     ]
    }
   ],
   "source": [
    "ADAMWworked, ADAMWpos, ADAMWtime = ADAMW(1, 0.9, 0.999, 0.004)\n",
    "if (ADAMWworked):\n",
    "    print(f\"ADAMW worked, Pos: {ADAMWpos}, Time: {ADAMWtime}\")\n",
    "    print((results[gdpos] - worst)/ datarange)\n",
    "else:\n",
    "    print(\"ADAMW didn't work\")\n",
    "\n",
    "#print(f\"Actual Best Pos: {ans}\")"
   ]
  },
  {
   "cell_type": "code",
   "execution_count": 131,
   "metadata": {},
   "outputs": [
    {
     "name": "stdout",
     "output_type": "stream",
     "text": [
      "[(1, 47), (44, 7), (44, 7)]\n",
      "[(1, 48)]\n"
     ]
    },
    {
     "data": {
      "text/plain": [
       "<matplotlib.colorbar.Colorbar at 0x285ebb19fd0>"
      ]
     },
     "execution_count": 131,
     "metadata": {},
     "output_type": "execute_result"
    },
    {
     "data": {
      "image/png": "[encoded data removed]",
      "text/plain": [
       "<Figure size 640x480 with 2 Axes>"
      ]
     },
     "metadata": {},
     "output_type": "display_data"
    }
   ],
   "source": [
    "fig, ax = plt.subplots()\n",
    "\n",
    "init = walls.possibleACIndex\n",
    "\n",
    "room = np.zeros((yResolution, xResolution))\n",
    "for i, pos in enumerate(init):\n",
    "    room[pos] = results[i]\n",
    "#init = np.append(init, export, axis=1)\n",
    "#print(room)\n",
    "allresults = [gdpos, ADAMpos, ADAMWpos]\n",
    "allans = [walls.possibleACIndex[i] for i in allresults]\n",
    "print(allans)\n",
    "print(ans)\n",
    "\n",
    "x = [i[1] for i in allans]\n",
    "y = [i[0] for i in allans]\n",
    "\n",
    "xans = [i[1] for i in ans]\n",
    "yans = [i[0] for i in ans]\n",
    "\n",
    "heatmap  = ax.imshow(room, cmap=\"hot\", interpolation=\"nearest\")\n",
    "ax.scatter(x, y)\n",
    "ax.scatter(xans, yans, marker=\"*\")\n",
    "\n",
    "fig.colorbar(heatmap)"
   ]
  },
  {
   "cell_type": "code",
   "execution_count": 132,
   "metadata": {},
   "outputs": [
    {
     "data": {
      "text/plain": [
       "<matplotlib.colorbar.Colorbar at 0x285ebd27670>"
      ]
     },
     "execution_count": 132,
     "metadata": {},
     "output_type": "execute_result"
    }
   ],
   "source": [
    "room = np.zeros((yResolution, xResolution))\n",
    "for i, pos in enumerate(init):\n",
    "    room[pos] = temp[i]\n",
    "heatmap  = ax.imshow(room, cmap=\"hot\", interpolation=\"nearest\")\n",
    "\n",
    "fig.colorbar(heatmap)"
   ]
  },
  {
   "cell_type": "code",
   "execution_count": null,
   "metadata": {},
   "outputs": [],
   "source": []
  },
  {
   "cell_type": "code",
   "execution_count": 133,
   "metadata": {},
   "outputs": [],
   "source": [
    "# currentIndex = 0\n",
    "# worked = False\n",
    "# length = len(walls.possibleACIndex)\n",
    "# visitedAll = np.zeros(length)\n",
    "# while True:\n",
    "#     visitedAll[currentIndex] = 1\n",
    "#     if (sum(visitedAll) == length):\n",
    "#         break\n",
    "    \n",
    "#     currentPos = walls.possibleACIndex[currentIndex]\n",
    "#     print(f\"Pos: {currentPos}\")\n",
    "#     print(\"Simulating at pos...\")\n",
    "#     usable, currentResults = sim(currentPos)\n",
    "#     if (not usable):\n",
    "#         print(\"Not stable\")\n",
    "#         currentIndex += 1\n",
    "        \n",
    "#     else:\n",
    "#         print(\"Stable\")\n",
    "#         forwardPos = walls.possibleACIndex[(currentIndex + 1) % length]\n",
    "#         forwardUsable, forwardResults = sim(forwardPos)\n",
    "#         forwardDif = forwardResults - currentResults\n",
    "\n",
    "#         backwardPos = walls.possibleACIndex[(currentIndex - 1) % length] \n",
    "#         backwardUsable, backwardResults = sim(backwardPos)\n",
    "#         backwardDif = currentResults - backwardResults\n",
    "\n",
    "#         forwardMessage = (str(forwardDif) if forwardUsable else \"Unusable\") \n",
    "#         print(f\"Forward Difference: {forwardMessage}\")\n",
    "\n",
    "#         backwardMessage = (str(backwardDif) if backwardUsable else \"Unusable\") \n",
    "#         print(f\"Backward Difference: {backwardMessage}\")\n",
    "\n",
    "#         if ((forwardDif < 0 and forwardUsable) and (backwardDif > 0 and backwardUsable)):\n",
    "#             print(\"Reached Equil.\")\n",
    "#             worked = True\n",
    "#             break\n",
    "#         else:\n",
    "#             gradient = (forwardDif * forwardUsable) + (backwardDif * backwardUsable)\n",
    "#             print(f\"Gradient: {gradient}\")\n",
    "#             indexMove = learningRate * gradient\n",
    "#             if (indexMove < 1):\n",
    "#                 print(\"Gradient too small. Pushing...\")\n",
    "#                 indexMove = np.sign(indexMove)\n",
    "            \n",
    "#             currentIndex = (currentIndex + int(indexMove)) % length\n",
    "    \n",
    "#     print(\"------------\")\n",
    "\n",
    "# if (not worked):\n",
    "#     print(\"Didn't work.\")\n",
    "# else:   \n",
    "#     print(f\"Worked! {walls.possibleACIndex[currentIndex]}\")\n"
   ]
  }
 ],
 "metadata": {
  "kernelspec": {
   "display_name": "base",
   "language": "python",
   "name": "python3"
  },
  "language_info": {
   "codemirror_mode": {
    "name": "ipython",
    "version": 3
   },
   "file_extension": ".py",
   "mimetype": "text/x-python",
   "name": "python",
   "nbconvert_exporter": "python",
   "pygments_lexer": "ipython3",
   "version": "3.9.18"
  }
 },
 "nbformat": 4,
 "nbformat_minor": 2
}
